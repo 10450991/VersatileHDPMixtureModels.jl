{
 "cells": [
  {
   "cell_type": "markdown",
   "metadata": {},
   "source": [
    "# Coseg exeperiment\n",
    "\n",
    "Due to size limitation, we only include the super pixels version (which is in the supplemantry), also, we only display 1 frame, as the translation from super pixels to pixel is memory heavy (3MB per frame)."
   ]
  },
  {
   "cell_type": "code",
   "execution_count": 2,
   "metadata": {},
   "outputs": [],
   "source": [
    "using Images\n",
    "using Distributed\n",
    "using NPZ"
   ]
  },
  {
   "cell_type": "markdown",
   "metadata": {},
   "source": [
    "#### Data Loading and preprocessing"
   ]
  },
  {
   "cell_type": "code",
   "execution_count": 3,
   "metadata": {},
   "outputs": [
    {
     "data": {
      "text/plain": [
       "436×1024 Array{Int64,2}:\n",
       "   0    0    0    0    0    0    0    0  …   32   32   32   32   32   32   32\n",
       "   0    0    0    0    0    0    0    0      32   32   32   32   32   32   32\n",
       "   0    0    0    0    0    0    0    0      32   32   32   32   32   32   32\n",
       "   0    0    0    0    0    0    0    0      32   32   32   32   32   32   32\n",
       "   0    0    0    0    0    0    0    0      32   32   32   32   32   32   32\n",
       "   0    0    0    0    0    0    0    0  …   32   32   32   32   32   32   32\n",
       "   0    0    0    0    0    0    0    0      32   32   32   32   32   32   32\n",
       "   0    0    0    0    0    0    0    0      32   32   32   32   32   32   32\n",
       "   0    0    0    0    0    0    0    0      32   32   32   32   32   32   32\n",
       "   0    0    0    0    0    0    0    0      32   32   32   32   32   32   32\n",
       "   0    0    0    0    0    0    0    0  …   32   32   32   32   32   32   32\n",
       "   0    0    0    0    0    0    0    0      32   32   32   32   32   32   32\n",
       "   0    0    0    0    0    0    0    0      32   32   32   32   32   32   32\n",
       "   ⋮                        ⋮            ⋱                   ⋮               \n",
       " 470  470  470  470  470  470  470  470     468  468  468  468  468  468  468\n",
       " 470  470  470  470  470  470  470  470  …  468  468  468  468  468  468  468\n",
       " 470  470  470  470  470  470  470  470     468  468  468  468  468  468  468\n",
       " 470  470  470  470  470  470  470  470     468  468  468  468  468  468  468\n",
       " 470  470  470  470  470  470  470  470     468  468  468  468  468  468  468\n",
       " 470  470  470  470  470  470  470  470     468  468  468  468  468  468  468\n",
       " 470  470  470  470  470  470  470  470  …  468  468  468  468  468  468  468\n",
       " 470  470  470  470  470  470  470  470     468  468  468  468  468  468  468\n",
       " 470  470  470  470  470  470  470  470     468  468  468  468  468  468  468\n",
       " 470  470  470  470  470  470  470  470     468  468  468  468  468  468  468\n",
       " 470  470  470  470  470  470  470  470     468  468  468  468  468  468  468\n",
       " 470  470  470  470  470  470  470  470  …  468  468  468  468  468  468  468"
      ]
     },
     "execution_count": 3,
     "metadata": {},
     "output_type": "execute_result"
    }
   ],
   "source": [
    "data = Dict()\n",
    "for i=1:50\n",
    "    group_data = copy(npzread(\"DATA/coseg/frame\" * string(i) * \".npy\")')\n",
    "    group_data[1:3,:] ./= 25\n",
    "    group_data[4:5,:] ./= 250\n",
    "    data[i] = group_data\n",
    "end\n",
    "\n",
    "pixels_to_super1 = npzread(\"DATA/coseg/pixels_to_super1.npy\")\n",
    "pixels_to_super2 = npzread(\"DATA/coseg/pixels_to_super2.npy\")\n",
    "pixels_to_super3 = npzread(\"DATA/coseg/pixels_to_super3.npy\")"
   ]
  },
  {
   "cell_type": "code",
   "execution_count": 4,
   "metadata": {},
   "outputs": [
    {
     "name": "stderr",
     "output_type": "stream",
     "text": [
      "┌ Info: Precompiling VersatileHDPMixtureModels [cb401d7d-c4f9-4284-af24-a1eca280e8e8]\n",
      "└ @ Base loading.jl:1273\n"
     ]
    },
    {
     "ename": "CompositeException",
     "evalue": "On worker 2:\nArgumentError: Package VersatileHDPMixtureModels [cb401d7d-c4f9-4284-af24-a1eca280e8e8] is required but does not seem to be installed:\n - Run `Pkg.instantiate()` to install all recorded dependencies.\n\n_require at ./loading.jl:993\nrequire at ./loading.jl:922\n#1 at /buildworker/worker/package_linux64/build/usr/share/julia/stdlib/v1.3/Distributed/src/Distributed.jl:78\n#105 at /buildworker/worker/package_linux64/build/usr/share/julia/stdlib/v1.3/Distributed/src/process_messages.jl:290\nrun_work_thunk at /buildworker/worker/package_linux64/build/usr/share/julia/stdlib/v1.3/Distributed/src/process_messages.jl:79\nrun_work_thunk at /buildworker/worker/package_linux64/build/usr/share/julia/stdlib/v1.3/Distributed/src/process_messages.jl:88\n#98 at ./task.jl:333\n\n...and 3 more exception(s).\n",
     "output_type": "error",
     "traceback": [
      "On worker 2:\nArgumentError: Package VersatileHDPMixtureModels [cb401d7d-c4f9-4284-af24-a1eca280e8e8] is required but does not seem to be installed:\n - Run `Pkg.instantiate()` to install all recorded dependencies.\n\n_require at ./loading.jl:993\nrequire at ./loading.jl:922\n#1 at /buildworker/worker/package_linux64/build/usr/share/julia/stdlib/v1.3/Distributed/src/Distributed.jl:78\n#105 at /buildworker/worker/package_linux64/build/usr/share/julia/stdlib/v1.3/Distributed/src/process_messages.jl:290\nrun_work_thunk at /buildworker/worker/package_linux64/build/usr/share/julia/stdlib/v1.3/Distributed/src/process_messages.jl:79\nrun_work_thunk at /buildworker/worker/package_linux64/build/usr/share/julia/stdlib/v1.3/Distributed/src/process_messages.jl:88\n#98 at ./task.jl:333\n\n...and 3 more exception(s).\n",
      "",
      "Stacktrace:",
      " [1] sync_end(::Array{Any,1}) at ./task.jl:300",
      " [2] _require_callback(::Base.PkgId) at ./task.jl:319",
      " [3] #invokelatest#1 at ./essentials.jl:709 [inlined]",
      " [4] invokelatest at ./essentials.jl:708 [inlined]",
      " [5] require(::Base.PkgId) at ./loading.jl:925",
      " [6] require(::Module, ::Symbol) at ./loading.jl:917",
      " [7] top-level scope at /buildworker/worker/package_linux64/build/usr/share/julia/stdlib/v1.3/Distributed/src/macros.jl:199",
      " [8] top-level scope at In[4]:3"
     ]
    }
   ],
   "source": [
    "using Distributed\n",
    "addprocs(4)\n",
    "@everywhere using VersatileHDPMixtureModels"
   ]
  },
  {
   "cell_type": "code",
   "execution_count": 10,
   "metadata": {},
   "outputs": [
    {
     "data": {
      "text/plain": [
       "niw_hyperparams(1.0, [0.871428, 2.044336], 5.0, [0.2 0.0; 0.0 0.2])"
      ]
     },
     "execution_count": 10,
     "metadata": {},
     "output_type": "execute_result"
    }
   ],
   "source": [
    "global_hyper_params = niw_hyperparams(1.0,\n",
    "    [47.56,45.40,27.82] ./ 25,\n",
    "    9.0,\n",
    "    [[0.8662817 0.78323282 0.41225376];\n",
    "        [0.78323282 0.74170384 0.50340258];\n",
    "        [0.41225376 0.50340258 0.79185577]]*1.0)\n",
    "\n",
    "local_hyper_params = niw_hyperparams(1.0,\n",
    "    [217.857,511.084] ./ 250,\n",
    "    5.0,\n",
    "    Matrix{Float64}(I, 2, 2)*0.2)"
   ]
  },
  {
   "cell_type": "code",
   "execution_count": 11,
   "metadata": {},
   "outputs": [
    {
     "name": "stdout",
     "output_type": "stream",
     "text": [
      "Iteration: 1|| Global Counts: [50]|| iter time: 0.10778093338012695\n",
      "Iteration: 2|| Global Counts: [50]|| iter time: 0.08347201347351074\n",
      "Iteration: 3|| Global Counts: [50]|| iter time: 0.0806269645690918\n",
      "Iteration: 4|| Global Counts: [50]|| iter time: 0.0867609977722168\n",
      "Iteration: 5|| Global Counts: [51, 51]|| iter time: 0.07793903350830078\n",
      "Iteration: 6|| Global Counts: [51, 69]|| iter time: 0.2078390121459961\n",
      "Iteration: 7|| Global Counts: [53, 77]|| iter time: 0.12623095512390137\n",
      "Iteration: 8|| Global Counts: [54, 84]|| iter time: 0.11515498161315918\n",
      "Iteration: 9|| Global Counts: [54, 88]|| iter time: 0.14554595947265625\n",
      "Iteration: 10|| Global Counts: [55, 94, 55]|| iter time: 0.2730891704559326\n",
      "Iteration: 11|| Global Counts: [64, 97, 59]|| iter time: 0.1690070629119873\n",
      "Iteration: 12|| Global Counts: [67, 104, 63]|| iter time: 0.27566003799438477\n",
      "Iteration: 13|| Global Counts: [71, 104, 71]|| iter time: 0.15233278274536133\n",
      "Iteration: 14|| Global Counts: [71, 99, 81]|| iter time: 0.21695685386657715\n",
      "Iteration: 15|| Global Counts: [72, 100, 84, 72]|| iter time: 0.16602110862731934\n",
      "Iteration: 16|| Global Counts: [81, 101, 85, 79]|| iter time: 0.2005469799041748\n",
      "Iteration: 17|| Global Counts: [89, 105, 86, 77]|| iter time: 0.1858198642730713\n",
      "Iteration: 18|| Global Counts: [103, 104, 84, 78]|| iter time: 0.19151091575622559\n",
      "Iteration: 19|| Global Counts: [112, 105, 82, 80]|| iter time: 0.19164800643920898\n",
      "Iteration: 20|| Global Counts: [116, 103, 82, 81, 81]|| iter time: 0.20924782752990723\n",
      "Iteration: 21|| Global Counts: [121, 103, 80, 85, 81]|| iter time: 0.21548795700073242\n",
      "Iteration: 22|| Global Counts: [126, 105, 81, 87, 81, 126]|| iter time: 0.23274898529052734\n",
      "Iteration: 23|| Global Counts: [140, 107, 85, 92, 86, 115]|| iter time: 0.2566561698913574\n",
      "Iteration: 24|| Global Counts: [153, 110, 87, 98, 92, 116]|| iter time: 0.29587817192077637\n",
      "Iteration: 25|| Global Counts: [156, 111, 86, 102, 93, 119, 93]|| iter time: 0.27562499046325684\n",
      "Iteration: 26|| Global Counts: [159, 111, 84, 102, 97, 108, 93]|| iter time: 0.39360499382019043\n",
      "Iteration: 27|| Global Counts: [164, 113, 84, 106, 94, 107, 99]|| iter time: 0.3330957889556885\n",
      "Iteration: 28|| Global Counts: [162, 115, 85, 110, 98, 112, 108]|| iter time: 0.3002150058746338\n",
      "Iteration: 29|| Global Counts: [172, 115, 86, 112, 98, 118, 107]|| iter time: 0.3100910186767578\n",
      "Iteration: 30|| Global Counts: [170, 116, 88, 109, 103, 124, 119]|| iter time: 0.32840394973754883\n",
      "Iteration: 31|| Global Counts: [171, 112, 90, 108, 105, 123, 127, 105]|| iter time: 0.3411078453063965\n",
      "Iteration: 32|| Global Counts: [169, 112, 90, 115, 106, 119, 131, 112]|| iter time: 0.41132092475891113\n",
      "Iteration: 33|| Global Counts: [168, 108, 91, 121, 108, 121, 139, 123]|| iter time: 0.37489795684814453\n",
      "Iteration: 34|| Global Counts: [174, 109, 89, 125, 112, 120, 139, 132]|| iter time: 0.4627988338470459\n",
      "Iteration: 35|| Global Counts: [176, 111, 92, 120, 108, 121, 145, 135, 145]|| iter time: 0.4183499813079834\n",
      "Iteration: 36|| Global Counts: [178, 109, 93, 122, 116, 120, 126, 130, 176]|| iter time: 0.49109315872192383\n",
      "Iteration: 37|| Global Counts: [178, 110, 96, 123, 127, 113, 143, 123, 177]|| iter time: 0.4467480182647705\n",
      "Iteration: 38|| Global Counts: [181, 116, 90, 124, 126, 111, 150, 125, 193]|| iter time: 0.5052590370178223\n",
      "Iteration: 39|| Global Counts: [178, 118, 92, 125, 123, 117, 148, 131, 205]|| iter time: 0.5125830173492432\n",
      "Iteration: 40|| Global Counts: [176, 122, 94, 120, 131, 118, 134, 126, 211]|| iter time: 0.4916861057281494\n",
      "Iteration: 41|| Global Counts: [169, 119, 97, 118, 142, 116, 135, 126, 208]|| iter time: 0.476790189743042\n",
      "Iteration: 42|| Global Counts: [167, 125, 94, 114, 139, 117, 144, 127, 213]|| iter time: 0.553725004196167\n",
      "Iteration: 43|| Global Counts: [158, 124, 95, 114, 136, 111, 155, 128, 211, 155]|| iter time: 0.5287051200866699\n",
      "Iteration: 44|| Global Counts: [150, 132, 96, 111, 149, 114, 114, 130, 235, 158]|| iter time: 0.5126461982727051\n",
      "Iteration: 45|| Global Counts: [145, 131, 101, 119, 162, 123, 120, 127, 236, 165]|| iter time: 0.5309879779815674\n",
      "Iteration: 46|| Global Counts: [138, 126, 98, 118, 158, 116, 106, 132, 234, 175]|| iter time: 0.5517210960388184\n",
      "Iteration: 47|| Global Counts: [137, 129, 100, 114, 154, 119, 106, 130, 240, 177]|| iter time: 0.5154519081115723\n",
      "Iteration: 48|| Global Counts: [141, 126, 101, 116, 156, 116, 116, 137, 237, 177]|| iter time: 0.5026781558990479\n",
      "Iteration: 49|| Global Counts: [139, 133, 104, 111, 156, 108, 106, 139, 240, 186]|| iter time: 0.5472798347473145\n",
      "Iteration: 50|| Global Counts: [139, 134, 101, 109, 154, 105, 116, 142, 239, 200]|| iter time: 0.5156140327453613\n",
      "Iteration: 51|| Global Counts: [141, 129, 105, 105, 158, 117, 118, 133, 237, 204]|| iter time: 0.5359690189361572\n",
      "Iteration: 52|| Global Counts: [148, 129, 105, 107, 152, 126, 121, 140, 230, 211, 211]|| iter time: 0.5443282127380371\n",
      "Iteration: 53|| Global Counts: [166, 132, 104, 107, 161, 122, 121, 146, 221, 140, 266]|| iter time: 0.5775630474090576\n",
      "Iteration: 54|| Global Counts: [164, 131, 105, 101, 158, 127, 124, 143, 202, 133, 273]|| iter time: 0.576524019241333\n",
      "Iteration: 55|| Global Counts: [159, 125, 105, 95, 168, 123, 122, 148, 190, 134, 273]|| iter time: 0.5847108364105225\n",
      "Iteration: 56|| Global Counts: [163, 132, 106, 95, 173, 113, 116, 149, 176, 124, 285]|| iter time: 0.5636100769042969\n",
      "Iteration: 57|| Global Counts: [167, 130, 103, 97, 173, 117, 121, 149, 164, 123, 287, 123]|| iter time: 0.5881030559539795\n",
      "Iteration: 58|| Global Counts: [168, 134, 103, 95, 181, 120, 110, 157, 158, 86, 269, 123]|| iter time: 0.6195249557495117\n",
      "Iteration: 59|| Global Counts: [170, 124, 103, 98, 188, 116, 112, 159, 158, 86, 277, 120, 277]|| iter time: 0.6208369731903076\n",
      "Iteration: 60|| Global Counts: [174, 130, 106, 102, 185, 120, 106, 168, 163, 75, 316, 125, 194]|| iter time: 0.6573920249938965\n",
      "Iteration: 61|| Global Counts: [173, 132, 108, 98, 196, 115, 97, 176, 161, 73, 323, 127, 184]|| iter time: 0.682884931564331\n",
      "Iteration: 62|| Global Counts: [177, 127, 107, 85, 182, 116, 97, 179, 157, 68, 317, 129, 191]|| iter time: 0.8353350162506104\n",
      "Iteration: 63|| Global Counts: [171, 122, 103, 86, 181, 127, 98, 176, 156, 68, 311, 109, 187]|| iter time: 0.6869759559631348\n",
      "Iteration: 64|| Global Counts: [166, 130, 102, 89, 175, 125, 91, 175, 152, 65, 298, 100, 196]|| iter time: 0.7289021015167236\n",
      "Iteration: 65|| Global Counts: [163, 134, 103, 92, 169, 118, 85, 173, 152, 63, 296, 92, 201]|| iter time: 0.7682571411132812\n",
      "Iteration: 66|| Global Counts: [161, 127, 104, 92, 166, 116, 83, 169, 151, 63, 286, 96, 209]|| iter time: 0.815925121307373\n",
      "Iteration: 67|| Global Counts: [156, 130, 103, 81, 172, 111, 87, 164, 148, 63, 280, 88, 216]|| iter time: 0.7303910255432129\n",
      "Iteration: 68|| Global Counts: [151, 123, 102, 78, 166, 103, 79, 167, 141, 67, 291, 94, 210, 67]|| iter time: 0.6976690292358398\n",
      "Iteration: 69|| Global Counts: [143, 124, 102, 87, 166, 110, 74, 165, 147, 61, 287, 101, 212, 69]|| iter time: 0.6506190299987793\n",
      "Iteration: 70|| Global Counts: [143, 118, 107, 82, 154, 111, 79, 167, 146, 64, 283, 106, 201, 70]|| iter time: 0.719480037689209\n",
      "Iteration: 71|| Global Counts: [148, 124, 111, 83, 153, 107, 75, 179, 145, 65, 285, 92, 204, 77]|| iter time: 0.6475911140441895\n",
      "Iteration: 72|| Global Counts: [142, 119, 106, 80, 161, 111, 75, 172, 147, 72, 275, 93, 210, 78]|| iter time: 0.65647292137146\n",
      "Iteration: 73|| Global Counts: [138, 124, 103, 85, 158, 108, 73, 168, 147, 73, 285, 87, 225, 83, 73]|| iter time: 0.7394311428070068\n",
      "Iteration: 74|| Global Counts: [139, 119, 103, 84, 164, 103, 72, 173, 151, 65, 281, 93, 224, 83, 68]|| iter time: 0.7066409587860107\n",
      "Iteration: 75|| Global Counts: [133, 122, 104, 84, 150, 112, 73, 169, 153, 63, 279, 83, 234, 83, 68]|| iter time: 0.7807679176330566\n",
      "Iteration: 76|| Global Counts: [126, 120, 107, 80, 154, 119, 76, 153, 158, 61, 285, 73, 221, 82, 62]|| iter time: 0.9837119579315186\n",
      "Iteration: 77|| Global Counts: [125, 123, 106, 86, 149, 112, 78, 142, 157, 57, 293, 71, 227, 82, 62]|| iter time: 0.8511419296264648\n",
      "Iteration: 78|| Global Counts: [128, 121, 103, 86, 148, 117, 79, 151, 156, 59, 299, 67, 230, 80, 64]|| iter time: 0.7534670829772949\n",
      "Iteration: 79|| Global Counts: [126, 122, 106, 85, 145, 120, 78, 148, 150, 61, 307, 61, 235, 80, 63]|| iter time: 0.7948038578033447\n",
      "Iteration: 80|| Global Counts: [136, 121, 107, 87, 147, 118, 78, 140, 155, 60, 307, 64, 244, 82, 61]|| iter time: 1.0704200267791748\n",
      "Iteration: 81|| Global Counts: [147, 123, 107, 88, 151, 120, 78, 133, 147, 58, 308, 68, 241, 78, 63]|| iter time: 0.8805429935455322\n",
      "Iteration: 82|| Global Counts: [148, 127, 107, 92, 149, 121, 82, 129, 150, 62, 304, 66, 243, 85, 66]|| iter time: 0.8269190788269043\n",
      "Iteration: 83|| Global Counts: [140, 127, 105, 94, 148, 119, 79, 124, 153, 63, 308, 64, 241, 91, 61]|| iter time: 1.0011179447174072\n",
      "Iteration: 84|| Global Counts: [139, 122, 107, 92, 148, 114, 80, 121, 156, 60, 310, 59, 235, 93, 61]|| iter time: 0.7407159805297852\n",
      "Iteration: 85|| Global Counts: [134, 120, 107, 98, 146, 116, 78, 117, 154, 58, 298, 64, 238, 91, 61]|| iter time: 0.7711219787597656\n",
      "Iteration: 86|| Global Counts: [138, 119, 103, 95, 157, 118, 77, 116, 154, 59, 306, 60, 235, 98, 65]|| iter time: 0.7665741443634033\n",
      "Iteration: 87|| Global Counts: [139, 124, 103, 94, 148, 116, 75, 101, 154, 63, 304, 57, 236, 104, 64]|| iter time: 0.7455148696899414\n",
      "Iteration: 88|| Global Counts: [133, 118, 102, 102, 144, 113, 71, 107, 153, 61, 298, 56, 240, 103, 63]|| iter time: 0.7351949214935303\n",
      "Iteration: 89|| Global Counts: [136, 117, 102, 103, 140, 115, 70, 112, 153, 62, 307, 58, 246, 100, 69]|| iter time: 0.6651368141174316\n",
      "Iteration: 90|| Global Counts: [135, 118, 103, 103, 143, 125, 67, 124, 159, 71, 308, 63, 241, 99, 68]|| iter time: 0.6829671859741211\n",
      "Iteration: 91|| Global Counts: [132, 118, 104, 96, 149, 120, 71, 115, 161, 66, 306, 63, 253, 105, 68, 68]|| iter time: 0.7257449626922607\n",
      "Iteration: 92|| Global Counts: [133, 119, 102, 107, 151, 122, 76, 102, 157, 59, 291, 58, 255, 110, 68, 65]|| iter time: 0.7884271144866943\n",
      "Iteration: 93|| Global Counts: [127, 121, 105, 105, 170, 129, 71, 102, 161, 56, 298, 56, 243, 107, 70, 68]|| iter time: 0.8412179946899414\n",
      "Iteration: 94|| Global Counts: [131, 121, 107, 107, 167, 121, 75, 99, 159, 55, 299, 57, 239, 112, 69, 70]|| iter time: 0.7915999889373779\n",
      "Iteration: 95|| Global Counts: [131, 122, 111, 105, 167, 121, 81, 104, 162, 56, 307, 61, 240, 108, 69, 76]|| iter time: 0.7986149787902832\n",
      "Iteration: 96|| Global Counts: [133, 116, 108, 104, 165, 125, 80, 99, 157, 54, 302, 67, 253, 115, 66, 70]|| iter time: 0.7569680213928223\n",
      "Iteration: 97|| Global Counts: [129, 117, 108, 110, 171, 124, 80, 84, 152, 55, 296, 65, 271, 110, 68, 67]|| iter time: 0.7644290924072266\n",
      "Iteration: 98|| Global Counts: [131, 119, 109, 112, 175, 123, 79, 92, 157, 53, 302, 64, 265, 110, 69, 68]|| iter time: 0.731774091720581\n",
      "Iteration: 99|| Global Counts: [134, 120, 109, 107, 167, 123, 80, 87, 150, 55, 312, 62, 271, 104, 71, 72]|| iter time: 0.7772190570831299\n",
      "Iteration: 100|| Global Counts: [130, 118, 105, 102, 162, 122, 84, 81, 152, 54, 314, 61, 264, 109, 69, 72]|| iter time: 0.7253739833831787\n",
      "Iteration: 101|| Global Counts: [127, 116, 105, 101, 170, 118, 80, 74, 149, 54, 306, 58, 255, 107, 68, 77]|| iter time: 0.813727855682373\n",
      "Iteration: 102|| Global Counts: [130, 120, 104, 104, 162, 123, 80, 67, 149, 52, 306, 61, 262, 110, 69, 80]|| iter time: 0.7117459774017334\n",
      "Iteration: 103|| Global Counts: [129, 118, 103, 102, 165, 124, 87, 70, 147, 53, 304, 60, 259, 103, 70, 75]|| iter time: 0.7578458786010742\n",
      "Iteration: 104|| Global Counts: [124, 118, 103, 106, 155, 121, 80, 71, 150, 53, 311, 64, 266, 101, 69, 72]|| iter time: 0.7393341064453125\n",
      "Iteration: 105|| Global Counts: [129, 120, 101, 102, 168, 133, 84, 68, 149, 54, 311, 66, 259, 97, 70, 74]|| iter time: 0.7872180938720703\n",
      "Iteration: 106|| Global Counts: [118, 122, 101, 98, 153, 134, 81, 63, 152, 52, 317, 75, 250, 102, 69, 83]|| iter time: 0.7668509483337402\n",
      "Iteration: 107|| Global Counts: [125, 126, 101, 100, 151, 129, 81, 65, 153, 56, 309, 62, 248, 100, 75, 80]|| iter time: 0.6952660083770752\n",
      "Iteration: 108|| Global Counts: [129, 122, 100, 96, 153, 116, 83, 64, 159, 52, 307, 59, 248, 96, 69, 79]|| iter time: 0.6972389221191406\n",
      "Iteration: 109|| Global Counts: [130, 114, 100, 97, 151, 116, 86, 63, 160, 51, 306, 60, 249, 102, 71, 76]|| iter time: 0.8617889881134033\n",
      "Iteration: 110|| Global Counts: [129, 111, 104, 99, 152, 113, 84, 65, 161, 52, 314, 65, 257, 106, 75, 84]|| iter time: 0.658876895904541\n",
      "Iteration: 111|| Global Counts: [132, 113, 103, 93, 157, 119, 85, 64, 160, 54, 323, 66, 246, 105, 78, 83]|| iter time: 0.7206449508666992\n",
      "Iteration: 112|| Global Counts: [132, 112, 104, 92, 155, 122, 82, 60, 161, 54, 311, 67, 256, 114, 72, 79]|| iter time: 0.7343721389770508\n",
      "Iteration: 113|| Global Counts: [142, 111, 101, 90, 162, 117, 86, 61, 159, 53, 307, 63, 256, 108, 71, 80]|| iter time: 0.7347579002380371\n",
      "Iteration: 114|| Global Counts: [129, 114, 100, 95, 163, 117, 86, 63, 156, 52, 316, 59, 263, 111, 72, 77]|| iter time: 0.717426061630249\n",
      "Iteration: 115|| Global Counts: [131, 120, 102, 97, 168, 116, 84, 60, 156, 55, 307, 62, 270, 119, 70, 79]|| iter time: 0.801861047744751\n",
      "Iteration: 116|| Global Counts: [134, 115, 101, 95, 167, 125, 87, 62, 155, 52, 305, 63, 273, 110, 74, 73]|| iter time: 0.7939519882202148\n",
      "Iteration: 117|| Global Counts: [135, 109, 101, 93, 171, 123, 87, 60, 160, 55, 310, 61, 264, 105, 74, 75]|| iter time: 0.8832480907440186\n",
      "Iteration: 118|| Global Counts: [126, 109, 103, 91, 164, 124, 86, 55, 153, 54, 318, 54, 258, 112, 80, 70]|| iter time: 0.7690010070800781\n",
      "Iteration: 119|| Global Counts: [120, 112, 101, 94, 163, 122, 90, 51, 155, 55, 310, 50, 268, 105, 80, 77]|| iter time: 0.8248999118804932\n",
      "Iteration: 120|| Global Counts: [119, 111, 104, 89, 162, 115, 87, 55, 152, 54, 310, 54, 262, 112, 80, 79]|| iter time: 0.8788979053497314\n",
      "Iteration: 121|| Global Counts: [122, 109, 105, 89, 171, 110, 87, 57, 155, 54, 305, 58, 258, 113, 78, 80]|| iter time: 0.7652111053466797\n",
      "Iteration: 122|| Global Counts: [125, 112, 104, 93, 171, 115, 86, 54, 154, 53, 316, 57, 269, 114, 76, 75]|| iter time: 0.899583101272583\n",
      "Iteration: 123|| Global Counts: [127, 113, 106, 84, 164, 112, 87, 59, 156, 54, 316, 49, 274, 107, 76, 71]|| iter time: 0.8692469596862793\n",
      "Iteration: 124|| Global Counts: [124, 109, 108, 91, 160, 110, 84, 63, 156, 55, 316, 55, 266, 105, 80, 76]|| iter time: 1.0188908576965332\n",
      "Iteration: 125|| Global Counts: [127, 109, 108, 91, 158, 114, 84, 62, 155, 56, 314, 51, 270, 101, 76, 78]|| iter time: 0.7700638771057129\n",
      "Iteration: 126|| Global Counts: [124, 115, 109, 85, 152, 111, 87, 60, 158, 58, 304, 49, 276, 94, 80, 76]|| iter time: 0.6857879161834717\n",
      "Iteration: 127|| Global Counts: [125, 120, 109, 83, 148, 111, 89, 51, 158, 58, 312, 54, 280, 96, 81, 79]|| iter time: 0.6807539463043213\n",
      "Iteration: 128|| Global Counts: [124, 113, 107, 85, 151, 105, 91, 52, 162, 55, 311, 51, 287, 89, 77, 79]|| iter time: 0.689486026763916\n",
      "Iteration: 129|| Global Counts: [129, 112, 109, 87, 154, 115, 91, 47, 153, 57, 310, 50, 283, 92, 78, 76]|| iter time: 0.6824359893798828\n",
      "Iteration: 130|| Global Counts: [126, 114, 109, 90, 152, 114, 86, 50, 151, 58, 317, 53, 273, 86, 82, 83]|| iter time: 0.6679742336273193\n",
      "Iteration: 131|| Global Counts: [126, 114, 107, 84, 151, 116, 84, 51, 152, 56, 328, 49, 282, 94, 89, 83]|| iter time: 0.6871039867401123\n",
      "Iteration: 132|| Global Counts: [131, 112, 106, 82, 154, 126, 84, 50, 158, 56, 324, 49, 275, 92, 84, 85]|| iter time: 0.6917800903320312\n",
      "Iteration: 133|| Global Counts: [129, 114, 106, 86, 152, 117, 88, 50, 153, 55, 318, 50, 282, 97, 86, 77]|| iter time: 0.6923091411590576\n",
      "Iteration: 134|| Global Counts: [129, 115, 109, 82, 150, 121, 91, 51, 154, 60, 308, 52, 269, 92, 90, 79]|| iter time: 0.6472890377044678\n",
      "Iteration: 135|| Global Counts: [123, 118, 106, 84, 156, 115, 87, 53, 148, 59, 325, 49, 271, 92, 89, 79]|| iter time: 0.7219600677490234\n",
      "Iteration: 136|| Global Counts: [125, 112, 108, 84, 153, 118, 87, 52, 147, 58, 319, 50, 271, 97, 85, 75]|| iter time: 0.6798601150512695\n",
      "Iteration: 137|| Global Counts: [122, 116, 107, 88, 161, 120, 84, 50, 149, 61, 313, 54, 260, 100, 85, 75]|| iter time: 0.708198070526123\n",
      "Iteration: 138|| Global Counts: [128, 116, 107, 84, 152, 119, 85, 52, 149, 62, 307, 54, 270, 94, 85, 74]|| iter time: 0.7106540203094482\n",
      "Iteration: 139|| Global Counts: [122, 122, 107, 81, 147, 108, 81, 50, 153, 60, 303, 52, 278, 91, 84, 76]|| iter time: 0.6866228580474854\n",
      "Iteration: 140|| Global Counts: [128, 121, 105, 78, 144, 103, 83, 51, 157, 60, 304, 56, 265, 90, 80, 76]|| iter time: 0.6768529415130615\n",
      "Iteration: 141|| Global Counts: [129, 120, 106, 75, 146, 106, 83, 52, 152, 62, 307, 50, 269, 90, 80, 76]|| iter time: 0.6780869960784912\n",
      "Iteration: 142|| Global Counts: [125, 117, 105, 82, 148, 108, 86, 54, 149, 59, 306, 55, 267, 95, 77, 73]|| iter time: 0.6258788108825684\n",
      "Iteration: 143|| Global Counts: [123, 117, 106, 83, 157, 108, 87, 57, 147, 59, 315, 55, 266, 97, 82, 67]|| iter time: 0.684654951095581\n",
      "Iteration: 144|| Global Counts: [122, 121, 107, 80, 152, 109, 86, 61, 149, 62, 312, 47, 261, 97, 79, 72]|| iter time: 0.671638011932373\n",
      "Iteration: 145|| Global Counts: [123, 119, 110, 83, 155, 109, 85, 57, 152, 61, 316, 49, 268, 93, 76, 73]|| iter time: 0.6804401874542236\n",
      "Iteration: 146|| Global Counts: [130, 118, 106, 80, 157, 110, 85, 55, 152, 61, 316, 42, 263, 89, 83, 76]|| iter time: 0.6863150596618652\n",
      "Iteration: 147|| Global Counts: [127, 120, 107, 80, 162, 117, 90, 53, 152, 62, 310, 47, 265, 84, 80, 76]|| iter time: 0.6927080154418945\n",
      "Iteration: 148|| Global Counts: [130, 116, 111, 83, 150, 113, 86, 50, 155, 58, 319, 47, 278, 88, 80, 71]|| iter time: 0.6855320930480957\n",
      "Iteration: 149|| Global Counts: [130, 115, 111, 79, 154, 112, 84, 49, 158, 59, 328, 52, 264, 84, 79, 78]|| iter time: 0.6609241962432861\n",
      "Iteration: 150|| Global Counts: [122, 123, 111, 84, 144, 121, 84, 50, 158, 58, 328, 52, 267, 86, 86, 72]|| iter time: 0.6971859931945801\n"
     ]
    },
    {
     "data": {
      "text/plain": [
       "3×436×1024 Array{Float64,3}:\n",
       "[:, :, 1] =\n",
       " 0.129543  0.129543  0.129543  0.129543  …  0.129543  0.129543  0.129543\n",
       " 0.243669  0.243669  0.243669  0.243669     0.243669  0.243669  0.243669\n",
       " 0.261817  0.261817  0.261817  0.261817     0.261817  0.261817  0.261817\n",
       "\n",
       "[:, :, 2] =\n",
       " 0.129543  0.129543  0.129543  0.129543  …  0.129543  0.129543  0.129543\n",
       " 0.243669  0.243669  0.243669  0.243669     0.243669  0.243669  0.243669\n",
       " 0.261817  0.261817  0.261817  0.261817     0.261817  0.261817  0.261817\n",
       "\n",
       "[:, :, 3] =\n",
       " 0.129543  0.129543  0.129543  0.129543  …  0.129543  0.129543  0.129543\n",
       " 0.243669  0.243669  0.243669  0.243669     0.243669  0.243669  0.243669\n",
       " 0.261817  0.261817  0.261817  0.261817     0.261817  0.261817  0.261817\n",
       "\n",
       "...\n",
       "\n",
       "[:, :, 1022] =\n",
       " 0.0701149  0.0701149  0.0701149  …  0.0872286  0.0872286  0.0872286\n",
       " 0.17794    0.17794    0.17794       0.153544   0.153544   0.153544 \n",
       " 0.197234   0.197234   0.197234      0.161628   0.161628   0.161628 \n",
       "\n",
       "[:, :, 1023] =\n",
       " 0.0701149  0.0701149  0.0701149  …  0.0872286  0.0872286  0.0872286\n",
       " 0.17794    0.17794    0.17794       0.153544   0.153544   0.153544 \n",
       " 0.197234   0.197234   0.197234      0.161628   0.161628   0.161628 \n",
       "\n",
       "[:, :, 1024] =\n",
       " 0.0701149  0.0701149  0.0701149  …  0.0872286  0.0872286  0.0872286\n",
       " 0.17794    0.17794    0.17794       0.153544   0.153544   0.153544 \n",
       " 0.197234   0.197234   0.197234      0.161628   0.161628   0.161628 "
      ]
     },
     "execution_count": 11,
     "metadata": {},
     "output_type": "execute_result"
    }
   ],
   "source": [
    "hdp, history = vhdp_fit(data,3,10.0,100.0,10.0,global_hyper_params,local_hyper_params,150)\n",
    "color_means = [(x.cluster_params.cluster_params.distribution.μ*25)/255 for x in hdp.global_clusters]\n",
    "glabels = create_global_labels(hdp.groups_dict[1])\n",
    "img = zeros(size(pixels_to_super1,1),size(pixels_to_super1,2),3)\n",
    "for i=1:size(pixels_to_super1,1)\n",
    "    for j=1:size(pixels_to_super1,2)\n",
    "        img[i,j,:] = color_means[glabels[(pixels_to_super1)[i,j]+1]]\n",
    "    end\n",
    "end\n",
    "image1 = img[:,:,[3,2,1]]\n",
    "image1 = permutedims(image1,[3,1,2])\n",
    "glabels = create_global_labels(hdp.groups_dict[2])\n",
    "img = zeros(size(pixels_to_super2,1),size(pixels_to_super2,2),3)\n",
    "for i=1:size(pixels_to_super2,1)\n",
    "    for j=1:size(pixels_to_super2,2)\n",
    "        img[i,j,:] = color_means[glabels[(pixels_to_super2)[i,j]+1]]\n",
    "    end\n",
    "end\n",
    "image2 = img[:,:,[3,2,1]]\n",
    "image2 = permutedims(image2,[3,1,2])\n",
    "\n",
    "glabels = create_global_labels(hdp.groups_dict[3])\n",
    "img = zeros(size(pixels_to_super3,1),size(pixels_to_super3,2),3)\n",
    "for i=1:size(pixels_to_super3,1)\n",
    "    for j=1:size(pixels_to_super3,2)\n",
    "        img[i,j,:] = color_means[glabels[(pixels_to_super3)[i,j]+1]]\n",
    "    end\n",
    "end\n",
    "image3 = img[:,:,[3,2,1]]\n",
    "image3 = permutedims(image3,[3,1,2])\n"
   ]
  },
  {
   "cell_type": "code",
   "execution_count": 12,
   "metadata": {},
   "outputs": [
    {
     "data": {
      "image/png": "[encoded data removed]",
      "text/plain": [
       "436×1024 reshape(reinterpret(RGB{Float64}, ::Array{Float64,3}), 436, 1024) with eltype RGB{Float64}:\n",
       " RGB{Float64}(0.129543,0.243669,0.261817)   …  RGB{Float64}(0.0533543,0.214307,0.24319) \n",
       " RGB{Float64}(0.129543,0.243669,0.261817)      RGB{Float64}(0.0533543,0.214307,0.24319) \n",
       " RGB{Float64}(0.129543,0.243669,0.261817)      RGB{Float64}(0.0533543,0.214307,0.24319) \n",
       " RGB{Float64}(0.129543,0.243669,0.261817)      RGB{Float64}(0.0533543,0.214307,0.24319) \n",
       " RGB{Float64}(0.129543,0.243669,0.261817)      RGB{Float64}(0.0533543,0.214307,0.24319) \n",
       " RGB{Float64}(0.129543,0.243669,0.261817)   …  RGB{Float64}(0.0533543,0.214307,0.24319) \n",
       " RGB{Float64}(0.129543,0.243669,0.261817)      RGB{Float64}(0.0533543,0.214307,0.24319) \n",
       " RGB{Float64}(0.129543,0.243669,0.261817)      RGB{Float64}(0.0533543,0.214307,0.24319) \n",
       " RGB{Float64}(0.129543,0.243669,0.261817)      RGB{Float64}(0.0533543,0.214307,0.24319) \n",
       " RGB{Float64}(0.129543,0.243669,0.261817)      RGB{Float64}(0.0533543,0.214307,0.24319) \n",
       " RGB{Float64}(0.129543,0.243669,0.261817)   …  RGB{Float64}(0.0533543,0.214307,0.24319) \n",
       " RGB{Float64}(0.129543,0.243669,0.261817)      RGB{Float64}(0.0533543,0.214307,0.24319) \n",
       " RGB{Float64}(0.129543,0.243669,0.261817)      RGB{Float64}(0.0533543,0.214307,0.24319) \n",
       " ⋮                                          ⋱                                           \n",
       " RGB{Float64}(0.0872286,0.153544,0.161628)     RGB{Float64}(0.0872286,0.153544,0.161628)\n",
       " RGB{Float64}(0.0872286,0.153544,0.161628)  …  RGB{Float64}(0.0872286,0.153544,0.161628)\n",
       " RGB{Float64}(0.0872286,0.153544,0.161628)     RGB{Float64}(0.0872286,0.153544,0.161628)\n",
       " RGB{Float64}(0.0872286,0.153544,0.161628)     RGB{Float64}(0.0872286,0.153544,0.161628)\n",
       " RGB{Float64}(0.0872286,0.153544,0.161628)     RGB{Float64}(0.0872286,0.153544,0.161628)\n",
       " RGB{Float64}(0.0872286,0.153544,0.161628)     RGB{Float64}(0.0872286,0.153544,0.161628)\n",
       " RGB{Float64}(0.0872286,0.153544,0.161628)  …  RGB{Float64}(0.0872286,0.153544,0.161628)\n",
       " RGB{Float64}(0.0872286,0.153544,0.161628)     RGB{Float64}(0.0872286,0.153544,0.161628)\n",
       " RGB{Float64}(0.0872286,0.153544,0.161628)     RGB{Float64}(0.0872286,0.153544,0.161628)\n",
       " RGB{Float64}(0.0872286,0.153544,0.161628)     RGB{Float64}(0.0872286,0.153544,0.161628)\n",
       " RGB{Float64}(0.0872286,0.153544,0.161628)     RGB{Float64}(0.0872286,0.153544,0.161628)\n",
       " RGB{Float64}(0.0872286,0.153544,0.161628)  …  RGB{Float64}(0.0872286,0.153544,0.161628)"
      ]
     },
     "execution_count": 12,
     "metadata": {},
     "output_type": "execute_result"
    }
   ],
   "source": [
    "colorview(RGB,image1)"
   ]
  },
  {
   "cell_type": "code",
   "execution_count": 13,
   "metadata": {},
   "outputs": [
    {
     "data": {
      "image/png": "[encoded data removed]",
      "text/plain": [
       "436×1024 reshape(reinterpret(RGB{Float64}, ::Array{Float64,3}), 436, 1024) with eltype RGB{Float64}:\n",
       " RGB{Float64}(0.129543,0.243669,0.261817)  …  RGB{Float64}(0.0533543,0.214307,0.24319) \n",
       " RGB{Float64}(0.129543,0.243669,0.261817)     RGB{Float64}(0.0533543,0.214307,0.24319) \n",
       " RGB{Float64}(0.129543,0.243669,0.261817)     RGB{Float64}(0.0533543,0.214307,0.24319) \n",
       " RGB{Float64}(0.129543,0.243669,0.261817)     RGB{Float64}(0.0533543,0.214307,0.24319) \n",
       " RGB{Float64}(0.129543,0.243669,0.261817)     RGB{Float64}(0.0533543,0.214307,0.24319) \n",
       " RGB{Float64}(0.129543,0.243669,0.261817)  …  RGB{Float64}(0.0533543,0.214307,0.24319) \n",
       " RGB{Float64}(0.129543,0.243669,0.261817)     RGB{Float64}(0.0533543,0.214307,0.24319) \n",
       " RGB{Float64}(0.129543,0.243669,0.261817)     RGB{Float64}(0.0533543,0.214307,0.24319) \n",
       " RGB{Float64}(0.129543,0.243669,0.261817)     RGB{Float64}(0.0533543,0.214307,0.24319) \n",
       " RGB{Float64}(0.129543,0.243669,0.261817)     RGB{Float64}(0.0533543,0.214307,0.24319) \n",
       " RGB{Float64}(0.129543,0.243669,0.261817)  …  RGB{Float64}(0.0533543,0.214307,0.24319) \n",
       " RGB{Float64}(0.129543,0.243669,0.261817)     RGB{Float64}(0.0533543,0.214307,0.24319) \n",
       " RGB{Float64}(0.129543,0.243669,0.261817)     RGB{Float64}(0.0533543,0.214307,0.24319) \n",
       " ⋮                                         ⋱                                           \n",
       " RGB{Float64}(0.129543,0.243669,0.261817)     RGB{Float64}(0.0872286,0.153544,0.161628)\n",
       " RGB{Float64}(0.129543,0.243669,0.261817)  …  RGB{Float64}(0.0872286,0.153544,0.161628)\n",
       " RGB{Float64}(0.129543,0.243669,0.261817)     RGB{Float64}(0.0872286,0.153544,0.161628)\n",
       " RGB{Float64}(0.129543,0.243669,0.261817)     RGB{Float64}(0.0872286,0.153544,0.161628)\n",
       " RGB{Float64}(0.129543,0.243669,0.261817)     RGB{Float64}(0.0872286,0.153544,0.161628)\n",
       " RGB{Float64}(0.129543,0.243669,0.261817)     RGB{Float64}(0.0872286,0.153544,0.161628)\n",
       " RGB{Float64}(0.129543,0.243669,0.261817)  …  RGB{Float64}(0.0872286,0.153544,0.161628)\n",
       " RGB{Float64}(0.129543,0.243669,0.261817)     RGB{Float64}(0.0872286,0.153544,0.161628)\n",
       " RGB{Float64}(0.129543,0.243669,0.261817)     RGB{Float64}(0.0872286,0.153544,0.161628)\n",
       " RGB{Float64}(0.129543,0.243669,0.261817)     RGB{Float64}(0.0872286,0.153544,0.161628)\n",
       " RGB{Float64}(0.129543,0.243669,0.261817)     RGB{Float64}(0.0872286,0.153544,0.161628)\n",
       " RGB{Float64}(0.129543,0.243669,0.261817)  …  RGB{Float64}(0.0872286,0.153544,0.161628)"
      ]
     },
     "execution_count": 13,
     "metadata": {},
     "output_type": "execute_result"
    }
   ],
   "source": [
    "colorview(RGB,image2)"
   ]
  },
  {
   "cell_type": "code",
   "execution_count": 14,
   "metadata": {},
   "outputs": [
    {
     "data": {
      "image/png": "[encoded data removed]",
      "text/plain": [
       "436×1024 reshape(reinterpret(RGB{Float64}, ::Array{Float64,3}), 436, 1024) with eltype RGB{Float64}:\n",
       " RGB{Float64}(0.129543,0.243669,0.261817)  …  RGB{Float64}(0.0701149,0.17794,0.197234) \n",
       " RGB{Float64}(0.129543,0.243669,0.261817)     RGB{Float64}(0.0701149,0.17794,0.197234) \n",
       " RGB{Float64}(0.129543,0.243669,0.261817)     RGB{Float64}(0.0701149,0.17794,0.197234) \n",
       " RGB{Float64}(0.129543,0.243669,0.261817)     RGB{Float64}(0.0701149,0.17794,0.197234) \n",
       " RGB{Float64}(0.129543,0.243669,0.261817)     RGB{Float64}(0.0701149,0.17794,0.197234) \n",
       " RGB{Float64}(0.129543,0.243669,0.261817)  …  RGB{Float64}(0.0701149,0.17794,0.197234) \n",
       " RGB{Float64}(0.129543,0.243669,0.261817)     RGB{Float64}(0.0701149,0.17794,0.197234) \n",
       " RGB{Float64}(0.129543,0.243669,0.261817)     RGB{Float64}(0.0701149,0.17794,0.197234) \n",
       " RGB{Float64}(0.129543,0.243669,0.261817)     RGB{Float64}(0.0701149,0.17794,0.197234) \n",
       " RGB{Float64}(0.129543,0.243669,0.261817)     RGB{Float64}(0.0701149,0.17794,0.197234) \n",
       " RGB{Float64}(0.129543,0.243669,0.261817)  …  RGB{Float64}(0.0701149,0.17794,0.197234) \n",
       " RGB{Float64}(0.129543,0.243669,0.261817)     RGB{Float64}(0.0701149,0.17794,0.197234) \n",
       " RGB{Float64}(0.129543,0.243669,0.261817)     RGB{Float64}(0.0701149,0.17794,0.197234) \n",
       " ⋮                                         ⋱                                           \n",
       " RGB{Float64}(0.129543,0.243669,0.261817)     RGB{Float64}(0.0872286,0.153544,0.161628)\n",
       " RGB{Float64}(0.129543,0.243669,0.261817)  …  RGB{Float64}(0.0872286,0.153544,0.161628)\n",
       " RGB{Float64}(0.129543,0.243669,0.261817)     RGB{Float64}(0.0872286,0.153544,0.161628)\n",
       " RGB{Float64}(0.129543,0.243669,0.261817)     RGB{Float64}(0.0872286,0.153544,0.161628)\n",
       " RGB{Float64}(0.129543,0.243669,0.261817)     RGB{Float64}(0.0872286,0.153544,0.161628)\n",
       " RGB{Float64}(0.129543,0.243669,0.261817)     RGB{Float64}(0.0872286,0.153544,0.161628)\n",
       " RGB{Float64}(0.129543,0.243669,0.261817)  …  RGB{Float64}(0.0872286,0.153544,0.161628)\n",
       " RGB{Float64}(0.129543,0.243669,0.261817)     RGB{Float64}(0.0872286,0.153544,0.161628)\n",
       " RGB{Float64}(0.129543,0.243669,0.261817)     RGB{Float64}(0.0872286,0.153544,0.161628)\n",
       " RGB{Float64}(0.129543,0.243669,0.261817)     RGB{Float64}(0.0872286,0.153544,0.161628)\n",
       " RGB{Float64}(0.129543,0.243669,0.261817)     RGB{Float64}(0.0872286,0.153544,0.161628)\n",
       " RGB{Float64}(0.129543,0.243669,0.261817)  …  RGB{Float64}(0.0872286,0.153544,0.161628)"
      ]
     },
     "execution_count": 14,
     "metadata": {},
     "output_type": "execute_result"
    }
   ],
   "source": [
    "colorview(RGB,image3)"
   ]
  }
 ],
 "metadata": {
  "kernelspec": {
   "display_name": "Julia 1.3.0",
   "language": "julia",
   "name": "julia-1.3"
  },
  "language_info": {
   "file_extension": ".jl",
   "mimetype": "application/julia",
   "name": "julia",
   "version": "1.3.0"
  }
 },
 "nbformat": 4,
 "nbformat_minor": 2
}
