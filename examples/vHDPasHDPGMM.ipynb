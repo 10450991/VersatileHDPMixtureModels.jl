{
 "cells": [
  {
   "cell_type": "markdown",
   "metadata": {},
   "source": [
    "## vHDPMM as HDPMM\n",
    "\n",
    "We generate data from a CRF prior over infinite mixture of Gaussians.\n",
    "\n",
    "Results may vary a bit from paper, as the data generation is random."
   ]
  },
  {
   "cell_type": "code",
   "execution_count": 1,
   "metadata": {},
   "outputs": [
    {
     "data": {
      "text/plain": [
       "generate_grouped_gaussian_from_hdp_group_counts (generic function with 1 method)"
      ]
     },
     "execution_count": 1,
     "metadata": {},
     "output_type": "execute_result"
    }
   ],
   "source": [
    "using Distributed\n",
    "addprocs(4)\n",
    "@everywhere cd(\"../\")\n",
    "include(\"hdp_shared_features.jl\")\n",
    "include(\"gaussian_generator.jl\")"
   ]
  },
  {
   "cell_type": "code",
   "execution_count": 2,
   "metadata": {},
   "outputs": [
    {
     "data": {
      "text/plain": [
       "run_and_compare (generic function with 2 methods)"
      ]
     },
     "execution_count": 2,
     "metadata": {},
     "output_type": "execute_result"
    }
   ],
   "source": [
    "function generate_data(dim, groups_count,sample_count,var,α = 10, γ = 1)\n",
    "    crf_prior = hdp_prior_crf_draws(sample_count,groups_count,α,γ)\n",
    "    pts,labels = generate_grouped_gaussian_from_hdp_group_counts(crf_prior[2],dim,var)\n",
    "    return pts, labels\n",
    "end\n",
    "\n",
    "function results_stats(pred_dict, gt_dict)\n",
    "    avg_nmi = 0\n",
    "    for i=1:length(pred_dict)\n",
    "        nmi = mutualinfo(pred_dict[i],gt_dict[i])\n",
    "        avg_nmi += nmi\n",
    "    end\n",
    "    return avg_nmi / length(pred_dict)\n",
    "end\n",
    "\n",
    "\n",
    "function run_and_compare(pts,labels,gdim,iters = 100)     \n",
    "     gprior, lprior = create_default_priors(gdim,0,:niw)\n",
    "     model = hdp_fit(pts,10,1,gprior,iters)\n",
    "     model_results = get_model_global_pred(model[1])\n",
    "     return results_stats(labels,model_results)\n",
    " end"
   ]
  },
  {
   "cell_type": "markdown",
   "metadata": {},
   "source": [
    "### D:3, N:100"
   ]
  },
  {
   "cell_type": "code",
   "execution_count": 3,
   "metadata": {},
   "outputs": [
    {
     "name": "stderr",
     "output_type": "stream",
     "text": [
      "┌ Warning: `lgamma(x::Real)` is deprecated, use `(logabsgamma(x))[1]` instead.\n",
      "│   caller = Dirichlet{Float64}(::Array{Float64,1}) at dirichlet.jl:36\n",
      "└ @ Distributions /home/dinari/.julia/packages/Distributions/0Wogo/src/multivariate/dirichlet.jl:36\n",
      "┌ Warning: `lgamma(x::Real)` is deprecated, use `(logabsgamma(x))[1]` instead.\n",
      "│   caller = Dirichlet{Float64}(::Array{Float64,1}) at dirichlet.jl:38\n",
      "└ @ Distributions /home/dinari/.julia/packages/Distributions/0Wogo/src/multivariate/dirichlet.jl:38\n",
      "┌ Warning: `lgamma(x::Real)` is deprecated, use `(logabsgamma(x))[1]` instead.\n",
      "│   caller = Dirichlet{Float64}(::Array{Float64,1}) at dirichlet.jl:36\n",
      "└ @ Distributions ~/.julia/packages/Distributions/0Wogo/src/multivariate/dirichlet.jl:36\n",
      "┌ Warning: `lgamma(x::Real)` is deprecated, use `(logabsgamma(x))[1]` instead.\n",
      "│   caller = Dirichlet{Float64}(::Array{Float64,1}) at dirichlet.jl:38\n",
      "└ @ Distributions ~/.julia/packages/Distributions/0Wogo/src/multivariate/dirichlet.jl:38\n",
      "┌ Warning: `lgamma(x::Real)` is deprecated, use `(logabsgamma(x))[1]` instead.\n",
      "│   caller = Dirichlet{Float64}(::Array{Float64,1}) at dirichlet.jl:36\n",
      "└ @ Distributions ~/.julia/packages/Distributions/0Wogo/src/multivariate/dirichlet.jl:36\n",
      "┌ Warning: `lgamma(x::Real)` is deprecated, use `(logabsgamma(x))[1]` instead.\n",
      "│   caller = Dirichlet{Float64}(::Array{Float64,1}) at dirichlet.jl:38\n",
      "└ @ Distributions ~/.julia/packages/Distributions/0Wogo/src/multivariate/dirichlet.jl:38\n",
      "┌ Warning: `lgamma(x::Real)` is deprecated, use `(logabsgamma(x))[1]` instead.\n",
      "│   caller = Dirichlet{Float64}(::Array{Float64,1}) at dirichlet.jl:36\n",
      "└ @ Distributions ~/.julia/packages/Distributions/0Wogo/src/multivariate/dirichlet.jl:36\n",
      "┌ Warning: `lgamma(x::Real)` is deprecated, use `(logabsgamma(x))[1]` instead.\n",
      "│   caller = Dirichlet{Float64}(::Array{Float64,1}) at dirichlet.jl:38\n",
      "└ @ Distributions ~/.julia/packages/Distributions/0Wogo/src/multivariate/dirichlet.jl:38\n",
      "┌ Warning: `lgamma(x::Real)` is deprecated, use `(logabsgamma(x))[1]` instead.\n",
      "│   caller = Dirichlet{Float64}(::Array{Float64,1}) at dirichlet.jl:36\n",
      "└ @ Distributions ~/.julia/packages/Distributions/0Wogo/src/multivariate/dirichlet.jl:36\n",
      "┌ Warning: `lgamma(x::Real)` is deprecated, use `(logabsgamma(x))[1]` instead.\n",
      "│   caller = Dirichlet{Float64}(::Array{Float64,1}) at dirichlet.jl:38\n",
      "└ @ Distributions ~/.julia/packages/Distributions/0Wogo/src/multivariate/dirichlet.jl:38\n"
     ]
    },
    {
     "name": "stdout",
     "output_type": "stream",
     "text": [
      "Iteration: 1|| Global Counts: [4]|| iter time: 21.13436484336853\n",
      "Iteration: 2|| Global Counts: [4]|| iter time: 0.0142669677734375\n",
      "Iteration: 3|| Global Counts: [4]|| iter time: 0.011148929595947266\n",
      "Iteration: 4|| Global Counts: [4]|| iter time: 0.011926889419555664\n",
      "Iteration: 5|| Global Counts: [4]|| iter time: 0.19217491149902344\n",
      "Iteration: 6|| Global Counts: [4]|| iter time: 0.013338088989257812\n",
      "Iteration: 7|| Global Counts: [4]|| iter time: 0.011987924575805664\n",
      "Iteration: 8|| Global Counts: [4]|| iter time: 0.011352062225341797\n",
      "Iteration: 9|| Global Counts: [4]|| iter time: 0.010693073272705078\n",
      "Iteration: 10|| Global Counts: [4]|| iter time: 0.011907100677490234\n",
      "Iteration: 11|| Global Counts: [4]|| iter time: 0.011569023132324219\n",
      "Iteration: 12|| Global Counts: [4]|| iter time: 0.011690139770507812\n",
      "Iteration: 13|| Global Counts: [4]|| iter time: 0.015639781951904297\n",
      "Iteration: 14|| Global Counts: [4]|| iter time: 0.015273094177246094\n",
      "Iteration: 15|| Global Counts: [4]|| iter time: 0.014895915985107422\n",
      "Iteration: 16|| Global Counts: [4]|| iter time: 0.01606011390686035\n",
      "Iteration: 17|| Global Counts: [4]|| iter time: 0.018110036849975586\n",
      "Iteration: 18|| Global Counts: [4]|| iter time: 0.01144099235534668\n",
      "Iteration: 19|| Global Counts: [4]|| iter time: 0.010119915008544922\n",
      "Iteration: 20|| Global Counts: [4]|| iter time: 0.013521909713745117\n",
      "Iteration: 21|| Global Counts: [4]|| iter time: 0.01500082015991211\n",
      "Iteration: 22|| Global Counts: [4]|| iter time: 0.01373600959777832\n",
      "Iteration: 23|| Global Counts: [4]|| iter time: 0.013579130172729492\n",
      "Iteration: 24|| Global Counts: [4]|| iter time: 0.015860795974731445\n",
      "Iteration: 25|| Global Counts: [4]|| iter time: 0.02506422996520996\n",
      "Iteration: 26|| Global Counts: [4]|| iter time: 0.014727115631103516\n",
      "Iteration: 27|| Global Counts: [4]|| iter time: 0.012954950332641602\n",
      "Iteration: 28|| Global Counts: [4]|| iter time: 0.012897968292236328\n",
      "Iteration: 29|| Global Counts: [4]|| iter time: 0.013598918914794922\n",
      "Iteration: 30|| Global Counts: [4]|| iter time: 0.012378931045532227\n",
      "Iteration: 31|| Global Counts: [4]|| iter time: 0.01342320442199707\n",
      "Iteration: 32|| Global Counts: [4]|| iter time: 0.009712934494018555\n",
      "Iteration: 33|| Global Counts: [4]|| iter time: 0.010267972946166992\n",
      "Iteration: 34|| Global Counts: [4]|| iter time: 0.009259939193725586\n",
      "Iteration: 35|| Global Counts: [4]|| iter time: 0.011265993118286133\n",
      "Iteration: 36|| Global Counts: [4]|| iter time: 0.011122941970825195\n",
      "Iteration: 37|| Global Counts: [4]|| iter time: 0.010484933853149414\n",
      "Iteration: 38|| Global Counts: [4, 4]|| iter time: 0.7069559097290039\n",
      "Iteration: 39|| Global Counts: [4, 4]|| iter time: 0.017078876495361328\n",
      "Iteration: 40|| Global Counts: [5, 4]|| iter time: 0.5744850635528564\n",
      "Iteration: 41|| Global Counts: [4, 4]|| iter time: 0.17260193824768066\n",
      "Iteration: 42|| Global Counts: [5, 4]|| iter time: 0.02230381965637207\n",
      "Iteration: 43|| Global Counts: [7, 4, 7]|| iter time: 0.015034914016723633\n",
      "Iteration: 44|| Global Counts: [4, 5, 4]|| iter time: 0.6071269512176514\n",
      "Iteration: 45|| Global Counts: [5, 5, 5, 5]|| iter time: 0.21700692176818848\n",
      "Iteration: 46|| Global Counts: [6, 4, 5, 4]|| iter time: 0.11853694915771484\n",
      "Iteration: 47|| Global Counts: [7, 4, 6, 4]|| iter time: 0.02608799934387207\n",
      "Iteration: 48|| Global Counts: [7, 4, 7, 6, 7]|| iter time: 0.026118993759155273\n",
      "Iteration: 49|| Global Counts: [9, 4, 5, 6, 5]|| iter time: 0.6062660217285156\n",
      "Iteration: 50|| Global Counts: [6, 5, 6, 7, 5, 5, 7]|| iter time: 0.20264005661010742\n",
      "Iteration: 51|| Global Counts: [8, 4, 7, 6, 4, 5, 6]|| iter time: 0.546942949295044\n",
      "Iteration: 52|| Global Counts: [8, 6, 5, 4, 4, 4, 11]|| iter time: 0.1138920783996582\n",
      "Iteration: 53|| Global Counts: [9, 6, 5, 5, 5, 5, 11]|| iter time: 0.22080302238464355\n",
      "Iteration: 54|| Global Counts: [9, 8, 6, 5, 6, 6, 9]|| iter time: 0.18268704414367676\n",
      "Iteration: 55|| Global Counts: [11, 8, 5, 6, 5, 7, 12, 6]|| iter time: 0.06328988075256348\n",
      "Iteration: 56|| Global Counts: [10, 5, 5, 7, 5, 7, 14, 7]|| iter time: 0.05285906791687012\n",
      "Iteration: 57|| Global Counts: [8, 6, 8, 9, 4, 8, 12, 6]|| iter time: 0.04070091247558594\n",
      "Iteration: 58|| Global Counts: [9, 5, 7, 10, 4, 11, 14, 9]|| iter time: 0.04201817512512207\n",
      "Iteration: 59|| Global Counts: [8, 7, 10, 10, 4, 14, 13, 8, 13]|| iter time: 0.05871701240539551\n",
      "Iteration: 60|| Global Counts: [10, 8, 8, 10, 6, 11, 9, 6, 9, 6]|| iter time: 0.0952458381652832\n",
      "Iteration: 61|| Global Counts: [11, 6, 7, 7, 6, 8, 8, 4, 9, 3]|| iter time: 0.04052090644836426\n",
      "Iteration: 62|| Global Counts: [10, 8, 8, 9, 5, 9, 7, 5, 6, 4, 9]|| iter time: 0.05280900001525879\n",
      "Iteration: 63|| Global Counts: [9, 6, 7, 10, 7, 8, 6, 6, 5, 4, 6]|| iter time: 0.055325984954833984\n",
      "Iteration: 64|| Global Counts: [8, 7, 8, 10, 7, 7, 5, 8, 7, 4, 7, 7]|| iter time: 0.04947209358215332\n",
      "Iteration: 65|| Global Counts: [11, 5, 9, 14, 8, 8, 5, 8, 5, 6, 5, 1, 6]|| iter time: 0.05656909942626953\n",
      "Iteration: 66|| Global Counts: [11, 6, 6, 11, 8, 10, 4, 9, 7, 4, 5, 1, 5]|| iter time: 0.06035804748535156\n",
      "Iteration: 67|| Global Counts: [9, 5, 6, 11, 8, 11, 6, 9, 8, 4, 5, 1, 5]|| iter time: 0.0660400390625\n",
      "Iteration: 68|| Global Counts: [12, 6, 7, 11, 7, 10, 6, 7, 10, 3, 6, 1, 3]|| iter time: 0.06423497200012207\n",
      "Iteration: 69|| Global Counts: [9, 5, 7, 8, 7, 11, 8, 9, 15, 4, 5, 1, 4, 8, 15]|| iter time: 0.055635929107666016\n",
      "Iteration: 70|| Global Counts: [10, 5, 8, 6, 7, 11, 9, 9, 11, 4, 8, 1, 3, 7, 6, 4]|| iter time: 0.05714106559753418\n",
      "Iteration: 71|| Global Counts: [9, 6, 9, 8, 5, 13, 13, 9, 9, 1, 11, 1, 3, 4, 8, 3]|| iter time: 0.06361007690429688\n",
      "Iteration: 72|| Global Counts: [9, 6, 9, 6, 5, 13, 10, 8, 8, 1, 12, 1, 4, 6, 5, 3]|| iter time: 0.05023503303527832\n",
      "Iteration: 73|| Global Counts: [8, 6, 11, 6, 4, 11, 9, 8, 9, 11, 1, 5, 6, 4, 4]|| iter time: 0.1529250144958496\n",
      "Iteration: 74|| Global Counts: [10, 6, 11, 7, 6, 11, 11, 7, 12, 12, 1, 4, 6, 7, 3]|| iter time: 0.19813895225524902\n",
      "Iteration: 75|| Global Counts: [10, 4, 7, 9, 5, 10, 12, 7, 12, 11, 1, 4, 5, 7, 4]|| iter time: 0.06625699996948242\n",
      "Iteration: 76|| Global Counts: [10, 5, 8, 9, 5, 11, 11, 10, 11, 13, 1, 5, 5, 7, 4]|| iter time: 0.07323694229125977\n",
      "Iteration: 77|| Global Counts: [10, 6, 11, 6, 5, 7, 13, 10, 11, 13, 1, 5, 6, 4, 4, 4]|| iter time: 0.0798499584197998\n",
      "Iteration: 78|| Global Counts: [10, 7, 9, 6, 5, 9, 11, 8, 7, 9, 1, 3, 8, 3, 3, 1]|| iter time: 0.12323117256164551\n",
      "Iteration: 79|| Global Counts: [9, 6, 8, 7, 7, 11, 11, 6, 7, 7, 1, 3, 7, 2, 3]|| iter time: 0.061431169509887695\n",
      "Iteration: 80|| Global Counts: [9, 8, 7, 8, 7, 12, 12, 8, 10, 7, 2, 3, 7, 3, 3]|| iter time: 0.08027005195617676\n",
      "Iteration: 81|| Global Counts: [10, 7, 9, 8, 7, 14, 11, 10, 7, 9, 1, 3, 6, 4, 3]|| iter time: 0.1297299861907959\n",
      "Iteration: 82|| Global Counts: [10, 7, 6, 10, 9, 13, 9, 13, 8, 7, 1, 3, 6, 5, 4]|| iter time: 0.07552504539489746\n",
      "Iteration: 83|| Global Counts: [9, 9, 7, 11, 10, 11, 14, 9, 4, 6, 1, 4, 6, 5, 3]|| iter time: 0.06728291511535645\n",
      "Iteration: 84|| Global Counts: [6, 6, 8, 12, 8, 11, 9, 5, 7, 9, 1, 5, 7, 5, 3]|| iter time: 0.10265898704528809\n",
      "Iteration: 85|| Global Counts: [7, 5, 11, 9, 7, 9, 10, 8, 10, 10, 1, 4, 6, 3, 3]|| iter time: 0.055947065353393555\n",
      "Iteration: 86|| Global Counts: [7, 5, 13, 6, 6, 9, 14, 9, 8, 11, 1, 4, 7, 2, 3]|| iter time: 0.05720996856689453\n",
      "Iteration: 87|| Global Counts: [9, 5, 12, 8, 7, 8, 14, 9, 11, 10, 1, 5, 5, 2, 3]|| iter time: 0.0664210319519043\n",
      "Iteration: 88|| Global Counts: [12, 3, 11, 7, 6, 8, 11, 9, 9, 6, 1, 3, 3, 3, 3]|| iter time: 0.052825927734375\n",
      "Iteration: 89|| Global Counts: [9, 4, 12, 9, 8, 7, 10, 10, 9, 8, 1, 4, 5, 4, 3]|| iter time: 0.05922389030456543\n",
      "Iteration: 90|| Global Counts: [10, 4, 13, 9, 7, 9, 13, 7, 11, 10, 1, 5, 7, 3, 4]|| iter time: 0.053668975830078125\n",
      "Iteration: 91|| Global Counts: [9, 6, 12, 8, 8, 6, 13, 10, 10, 10, 1, 6, 8, 2, 4]|| iter time: 0.06684088706970215\n",
      "Iteration: 92|| Global Counts: [8, 7, 14, 10, 7, 4, 15, 8, 10, 8, 1, 5, 12, 3, 4]|| iter time: 0.05926799774169922\n",
      "Iteration: 93|| Global Counts: [7, 7, 10, 9, 8, 4, 12, 10, 13, 7, 1, 7, 16, 5, 4]|| iter time: 0.06781387329101562\n",
      "Iteration: 94|| Global Counts: [7, 5, 10, 7, 6, 3, 12, 11, 7, 8, 1, 5, 16, 4, 4]|| iter time: 0.06293082237243652\n"
     ]
    },
    {
     "name": "stdout",
     "output_type": "stream",
     "text": [
      "Iteration: 95|| Global Counts: [7, 7, 9, 5, 7, 4, 13, 9, 7, 7, 1, 5, 14, 5, 3]|| iter time: 0.09143900871276855\n",
      "Iteration: 96|| Global Counts: [10, 8, 11, 8, 8, 4, 15, 9, 10, 6, 1, 5, 9, 5, 3]|| iter time: 0.08422017097473145\n",
      "Iteration: 97|| Global Counts: [8, 6, 10, 6, 9, 3, 14, 9, 7, 7, 1, 6, 6, 5, 3]|| iter time: 0.05897402763366699\n",
      "Iteration: 98|| Global Counts: [8, 6, 7, 6, 10, 4, 14, 8, 8, 8, 1, 6, 6, 4, 3]|| iter time: 0.054937124252319336\n",
      "Iteration: 99|| Global Counts: [8, 6, 5, 6, 11, 5, 16, 9, 9, 7, 1, 4, 8, 7, 2]|| iter time: 0.06593585014343262\n",
      "Iteration: 100|| Global Counts: [9, 8, 6, 7, 11, 3, 19, 8, 11, 8, 1, 4, 10, 3, 3, 11]|| iter time: 0.06609892845153809\n"
     ]
    },
    {
     "data": {
      "text/plain": [
       "0.91795921383425"
      ]
     },
     "execution_count": 3,
     "metadata": {},
     "output_type": "execute_result"
    }
   ],
   "source": [
    "gdim = 3\n",
    "pts,labels = generate_data(gdim,4,100,100.0)\n",
    "run_and_compare(pts,labels,gdim)"
   ]
  },
  {
   "cell_type": "markdown",
   "metadata": {},
   "source": [
    "### D:8, N:5000"
   ]
  },
  {
   "cell_type": "code",
   "execution_count": 12,
   "metadata": {},
   "outputs": [
    {
     "name": "stdout",
     "output_type": "stream",
     "text": [
      "Iteration: 1|| Global Counts: [4]|| iter time: 0.01793694496154785\n",
      "Iteration: 2|| Global Counts: [4]|| iter time: 0.01627492904663086\n",
      "Iteration: 3|| Global Counts: [4]|| iter time: 0.016991853713989258\n",
      "Iteration: 4|| Global Counts: [4]|| iter time: 0.02559494972229004\n",
      "Iteration: 5|| Global Counts: [4, 4]|| iter time: 0.03721117973327637\n",
      "Iteration: 6|| Global Counts: [4, 4]|| iter time: 0.028136014938354492\n",
      "Iteration: 7|| Global Counts: [4, 4]|| iter time: 0.024547100067138672\n",
      "Iteration: 8|| Global Counts: [4, 4]|| iter time: 0.03251194953918457\n",
      "Iteration: 9|| Global Counts: [4, 4]|| iter time: 0.027008771896362305\n",
      "Iteration: 10|| Global Counts: [4, 4, 4, 4]|| iter time: 0.030237913131713867\n",
      "Iteration: 11|| Global Counts: [4, 4, 4, 4]|| iter time: 0.03408694267272949\n",
      "Iteration: 12|| Global Counts: [4, 4, 4, 4]|| iter time: 0.04360699653625488\n",
      "Iteration: 13|| Global Counts: [4, 4, 4, 4]|| iter time: 0.02822399139404297\n",
      "Iteration: 14|| Global Counts: [4, 4, 4, 4]|| iter time: 0.04066586494445801\n",
      "Iteration: 15|| Global Counts: [4, 4, 4, 4, 4, 4]|| iter time: 0.03778696060180664\n",
      "Iteration: 16|| Global Counts: [4, 4, 4, 4, 4, 4]|| iter time: 0.03314614295959473\n",
      "Iteration: 17|| Global Counts: [4, 4, 4, 4, 4, 4]|| iter time: 0.04797816276550293\n",
      "Iteration: 18|| Global Counts: [4, 4, 4, 4, 4, 4]|| iter time: 0.04077601432800293\n",
      "Iteration: 19|| Global Counts: [4, 4, 4, 5, 4, 4]|| iter time: 0.04216909408569336\n",
      "Iteration: 20|| Global Counts: [4, 4, 4, 5, 4, 4, 4, 5, 4, 4]|| iter time: 0.04056596755981445\n",
      "Iteration: 21|| Global Counts: [4, 5, 4, 4, 4, 3, 4, 3, 4, 4]|| iter time: 0.060079097747802734\n",
      "Iteration: 22|| Global Counts: [4, 6, 4, 5, 4, 3, 4, 3, 4, 4]|| iter time: 0.05355691909790039\n",
      "Iteration: 23|| Global Counts: [4, 6, 4, 4, 4, 3, 4, 3, 4, 4]|| iter time: 0.05692601203918457\n",
      "Iteration: 24|| Global Counts: [4, 5, 4, 4, 4, 3, 4, 3, 4, 4]|| iter time: 0.05020499229431152\n",
      "Iteration: 25|| Global Counts: [4, 5, 4, 4, 5, 3, 4, 3, 4, 4, 5, 5, 3, 4, 4, 4]|| iter time: 0.06792902946472168\n",
      "Iteration: 26|| Global Counts: [4, 5, 4, 4, 4, 4, 3, 3, 4, 3, 3, 7, 2, 5, 4, 3]|| iter time: 0.08766889572143555\n",
      "Iteration: 27|| Global Counts: [4, 4, 4, 4, 5, 5, 3, 3, 4, 2, 3, 8, 2, 6, 4, 2]|| iter time: 0.05623888969421387\n",
      "Iteration: 28|| Global Counts: [4, 5, 4, 4, 5, 4, 3, 3, 4, 1, 3, 11, 2, 5, 4, 2]|| iter time: 0.07544803619384766\n",
      "Iteration: 29|| Global Counts: [4, 6, 4, 5, 5, 5, 3, 3, 4, 1, 3, 11, 2, 6, 4, 2]|| iter time: 0.08510589599609375\n",
      "Iteration: 30|| Global Counts: [4, 6, 4, 5, 5, 5, 3, 3, 4, 1, 3, 8, 2, 7, 4, 2, 4, 4]|| iter time: 0.059396982192993164\n",
      "Iteration: 31|| Global Counts: [4, 4, 4, 5, 4, 3, 3, 3, 4, 1, 3, 8, 2, 5, 4, 2, 3, 4]|| iter time: 0.07802891731262207\n",
      "Iteration: 32|| Global Counts: [4, 5, 4, 5, 4, 3, 3, 3, 4, 1, 3, 8, 2, 4, 4, 2, 4, 4]|| iter time: 0.07181406021118164\n",
      "Iteration: 33|| Global Counts: [4, 6, 4, 4, 4, 3, 3, 3, 4, 1, 3, 9, 2, 6, 4, 2, 5, 4]|| iter time: 0.06743693351745605\n",
      "Iteration: 34|| Global Counts: [4, 7, 4, 4, 4, 3, 3, 3, 4, 1, 3, 8, 2, 8, 4, 2, 6, 4]|| iter time: 0.07957601547241211\n",
      "Iteration: 35|| Global Counts: [4, 6, 4, 5, 5, 3, 3, 3, 4, 1, 3, 9, 2, 8, 4, 2, 6, 4, 4, 4, 6, 4]|| iter time: 0.07660603523254395\n",
      "Iteration: 36|| Global Counts: [4, 5, 4, 5, 5, 3, 3, 3, 4, 1, 3, 10, 2, 8, 4, 2, 1, 4, 4, 4, 8, 4]|| iter time: 0.09695291519165039\n",
      "Iteration: 37|| Global Counts: [4, 6, 4, 4, 5, 3, 3, 3, 5, 1, 3, 10, 2, 7, 4, 2, 1, 4, 4, 4, 7, 4]|| iter time: 0.07233715057373047\n",
      "Iteration: 38|| Global Counts: [4, 6, 4, 4, 5, 3, 3, 3, 3, 1, 3, 9, 2, 7, 4, 2, 1, 4, 5, 4, 7, 4]|| iter time: 0.09226012229919434\n",
      "Iteration: 39|| Global Counts: [4, 7, 4, 4, 5, 3, 3, 3, 1, 1, 3, 7, 2, 7, 4, 2, 1, 4, 4, 4, 9, 4]|| iter time: 0.09276413917541504\n",
      "Iteration: 40|| Global Counts: [4, 6, 4, 4, 4, 3, 3, 3, 1, 3, 8, 2, 9, 4, 2, 1, 4, 4, 4, 9, 4, 4, 4, 4, 4]|| iter time: 0.08733606338500977\n",
      "Iteration: 41|| Global Counts: [4, 7, 4, 5, 5, 3, 3, 3, 1, 3, 8, 2, 8, 4, 2, 1, 5, 4, 4, 6, 4, 4, 5, 4, 4]|| iter time: 0.10389304161071777\n",
      "Iteration: 42|| Global Counts: [4, 7, 4, 5, 5, 3, 3, 3, 1, 3, 8, 2, 9, 4, 2, 1, 7, 5, 4, 8, 4, 4, 6, 4, 4]|| iter time: 0.07941508293151855\n",
      "Iteration: 43|| Global Counts: [4, 6, 4, 4, 5, 3, 3, 3, 1, 3, 9, 2, 8, 4, 2, 1, 7, 6, 4, 10, 4, 4, 2, 4, 3]|| iter time: 0.08964896202087402\n",
      "Iteration: 44|| Global Counts: [4, 6, 4, 4, 4, 3, 3, 3, 1, 3, 9, 2, 8, 4, 2, 1, 1, 6, 4, 9, 5, 4, 1, 4, 4]|| iter time: 0.07514095306396484\n",
      "Iteration: 45|| Global Counts: [4, 7, 4, 4, 4, 3, 3, 3, 1, 3, 10, 2, 6, 4, 2, 1, 1, 6, 4, 8, 5, 4, 1, 4, 5, 4, 4, 4, 4, 5]|| iter time: 0.10438704490661621\n",
      "Iteration: 46|| Global Counts: [4, 6, 4, 5, 4, 3, 3, 3, 1, 3, 10, 2, 6, 4, 2, 1, 1, 8, 5, 9, 4, 1, 1, 5, 1, 2, 4, 4, 2, 7]|| iter time: 0.09780597686767578\n",
      "Iteration: 47|| Global Counts: [4, 6, 4, 4, 4, 3, 3, 3, 1, 3, 7, 2, 7, 4, 2, 1, 1, 10, 6, 9, 4, 1, 1, 6, 1, 2, 4, 4, 2, 9]|| iter time: 0.10540604591369629\n",
      "Iteration: 48|| Global Counts: [4, 8, 4, 4, 5, 3, 3, 3, 1, 3, 7, 2, 7, 4, 2, 1, 1, 10, 5, 9, 4, 1, 1, 6, 1, 2, 4, 4, 2, 8]|| iter time: 0.08667397499084473\n",
      "Iteration: 49|| Global Counts: [4, 5, 4, 5, 5, 3, 3, 3, 1, 3, 9, 2, 8, 4, 2, 1, 1, 7, 5, 7, 4, 1, 1, 6, 1, 2, 4, 4, 2, 7]|| iter time: 0.08323287963867188\n",
      "Iteration: 50|| Global Counts: [4, 5, 4, 4, 5, 3, 3, 3, 1, 3, 7, 2, 8, 4, 2, 1, 1, 8, 4, 7, 4, 1, 1, 5, 1, 2, 4, 4, 2, 8, 4, 4, 5, 2, 4]|| iter time: 0.1053929328918457\n",
      "Iteration: 51|| Global Counts: [4, 6, 4, 4, 5, 3, 3, 3, 1, 3, 7, 2, 7, 4, 2, 1, 1, 9, 3, 9, 4, 1, 1, 4, 1, 2, 4, 4, 2, 8, 5, 4, 2, 2, 3]|| iter time: 0.10352802276611328\n",
      "Iteration: 52|| Global Counts: [4, 6, 4, 4, 5, 3, 3, 3, 1, 3, 7, 2, 7, 4, 2, 1, 1, 10, 3, 9, 4, 1, 1, 4, 1, 2, 5, 4, 2, 10, 6, 5, 3, 2, 3, 4]|| iter time: 0.11570405960083008\n",
      "Iteration: 53|| Global Counts: [4, 6, 4, 4, 5, 3, 3, 3, 1, 3, 8, 2, 10, 5, 2, 1, 1, 12, 3, 10, 4, 1, 1, 4, 1, 2, 5, 1, 2, 12, 4, 3, 5, 3, 2, 3]|| iter time: 0.10454487800598145\n",
      "Iteration: 54|| Global Counts: [4, 6, 4, 4, 5, 3, 3, 3, 1, 3, 7, 2, 8, 6, 2, 1, 1, 9, 3, 7, 4, 1, 1, 3, 1, 2, 6, 1, 2, 13, 3, 3, 4, 1, 2, 3]|| iter time: 0.09273600578308105\n",
      "Iteration: 55|| Global Counts: [4, 5, 4, 5, 4, 3, 3, 3, 1, 3, 9, 2, 8, 8, 2, 1, 1, 11, 3, 8, 4, 1, 1, 4, 1, 2, 5, 1, 2, 12, 3, 3, 3, 1, 3, 3, 8, 3, 4, 2, 5, 3, 3, 3]|| iter time: 0.10899996757507324\n",
      "Iteration: 56|| Global Counts: [4, 5, 4, 5, 4, 3, 3, 3, 1, 3, 8, 2, 7, 4, 2, 1, 1, 7, 3, 10, 4, 1, 1, 4, 1, 2, 4, 1, 2, 14, 3, 2, 3, 1, 1, 3, 9, 1, 1, 1, 5, 2, 2, 5]|| iter time: 0.13793396949768066\n",
      "Iteration: 57|| Global Counts: [4, 7, 4, 5, 5, 3, 3, 3, 1, 3, 9, 2, 9, 4, 2, 1, 1, 6, 3, 10, 4, 1, 1, 3, 1, 1, 4, 1, 2, 14, 2, 3, 3, 1, 1, 3, 10, 1, 1, 1, 6, 2, 3, 6, 2]|| iter time: 0.11485791206359863\n",
      "Iteration: 58|| Global Counts: [4, 7, 4, 5, 5, 3, 3, 3, 1, 3, 6, 2, 9, 4, 2, 1, 1, 8, 3, 8, 4, 1, 1, 4, 1, 1, 3, 1, 1, 12, 2, 3, 3, 1, 1, 3, 14, 1, 1, 1, 5, 2, 3, 4, 3]|| iter time: 0.15318083763122559\n",
      "Iteration: 59|| Global Counts: [4, 8, 4, 5, 5, 3, 3, 3, 1, 3, 6, 2, 9, 4, 2, 1, 1, 9, 3, 7, 4, 1, 1, 4, 1, 1, 3, 1, 1, 11, 2, 5, 4, 1, 1, 3, 13, 1, 1, 1, 5, 2, 3, 5, 1]|| iter time: 0.11022400856018066\n",
      "Iteration: 60|| Global Counts: [4, 6, 4, 4, 5, 3, 3, 3, 1, 3, 7, 2, 8, 3, 2, 1, 1, 12, 3, 6, 4, 1, 1, 4, 1, 1, 3, 1, 1, 13, 2, 5, 6, 1, 1, 3, 17, 1, 1, 1, 4, 2, 4, 5, 1, 2, 4, 2]|| iter time: 0.129669189453125\n",
      "Iteration: 61|| Global Counts: [4, 6, 4, 5, 5, 3, 3, 3, 1, 3, 7, 2, 9, 3, 2, 1, 1, 10, 3, 6, 4, 1, 1, 4, 1, 1, 3, 1, 1, 13, 3, 6, 7, 1, 1, 3, 16, 1, 1, 1, 6, 1, 3, 5, 1, 1, 4, 1]|| iter time: 0.14679598808288574\n",
      "Iteration: 62|| Global Counts: [4, 5, 4, 5, 5, 3, 3, 3, 1, 3, 6, 2, 11, 3, 2, 1, 1, 7, 3, 8, 4, 1, 1, 5, 1, 1, 3, 1, 1, 10, 4, 6, 6, 1, 1, 3, 13, 1, 1, 1, 7, 1, 3, 4, 1, 1, 4, 1, 3, 3]|| iter time: 0.13746285438537598\n",
      "Iteration: 63|| Global Counts: [4, 6, 4, 5, 5, 3, 3, 3, 1, 3, 8, 2, 8, 3, 3, 1, 1, 5, 1, 6, 4, 1, 1, 4, 1, 1, 3, 1, 1, 10, 5, 6, 8, 1, 1, 3, 11, 1, 1, 1, 6, 1, 3, 4, 1, 1, 4, 1, 3, 2]|| iter time: 0.13250184059143066\n",
      "Iteration: 64|| Global Counts: [4, 7, 4, 5, 5, 3, 3, 3, 1, 3, 7, 2, 9, 3, 2, 1, 1, 5, 1, 8, 4, 1, 1, 4, 1, 1, 1, 1, 1, 13, 7, 5, 6, 1, 1, 3, 9, 1, 1, 1, 6, 1, 4, 5, 1, 1, 4, 1, 3, 2]|| iter time: 0.13039398193359375\n",
      "Iteration: 65|| Global Counts: [4, 6, 4, 5, 4, 3, 3, 3, 1, 3, 5, 2, 10, 4, 2, 1, 1, 5, 1, 7, 4, 1, 1, 5, 1, 1, 1, 1, 1, 14, 5, 4, 6, 1, 1, 3, 10, 1, 1, 1, 7, 1, 4, 4, 1, 2, 4, 1, 3, 2, 7, 4]|| iter time: 0.13162493705749512\n"
     ]
    },
    {
     "name": "stdout",
     "output_type": "stream",
     "text": [
      "Iteration: 66|| Global Counts: [4, 5, 4, 4, 4, 3, 3, 3, 1, 3, 5, 2, 9, 2, 2, 1, 1, 5, 1, 8, 4, 1, 1, 4, 1, 1, 1, 1, 1, 15, 4, 3, 7, 1, 1, 3, 13, 1, 1, 1, 7, 1, 4, 5, 1, 3, 4, 3, 3, 2, 3, 4]|| iter time: 0.1390681266784668\n",
      "Iteration: 67|| Global Counts: [4, 6, 4, 4, 5, 3, 3, 3, 1, 3, 5, 2, 8, 2, 2, 1, 1, 5, 1, 8, 4, 1, 1, 3, 1, 1, 1, 1, 1, 8, 7, 2, 7, 1, 1, 3, 14, 1, 1, 1, 7, 1, 3, 6, 1, 2, 4, 3, 3, 2, 3, 4, 2]|| iter time: 0.16808581352233887\n",
      "Iteration: 68|| Global Counts: [4, 4, 4, 4, 5, 3, 3, 3, 1, 3, 7, 2, 7, 3, 2, 1, 1, 5, 1, 8, 4, 1, 1, 3, 1, 1, 1, 1, 1, 8, 5, 1, 8, 1, 1, 3, 12, 1, 1, 1, 6, 1, 3, 5, 1, 2, 4, 3, 3, 1, 3, 4, 1]|| iter time: 0.13661503791809082\n",
      "Iteration: 69|| Global Counts: [2, 5, 4, 5, 4, 3, 3, 3, 1, 3, 8, 2, 7, 2, 2, 1, 1, 6, 1, 7, 4, 1, 1, 3, 1, 1, 1, 1, 1, 6, 5, 1, 9, 1, 1, 3, 14, 1, 1, 1, 8, 1, 2, 5, 1, 2, 4, 2, 3, 1, 3, 6, 1]|| iter time: 0.13504600524902344\n",
      "Iteration: 70|| Global Counts: [4, 4, 5, 5, 3, 3, 3, 1, 3, 8, 2, 9, 2, 2, 1, 1, 5, 1, 10, 4, 1, 1, 4, 1, 1, 1, 1, 1, 8, 6, 1, 8, 1, 1, 3, 14, 1, 1, 1, 7, 1, 3, 5, 1, 1, 4, 2, 3, 1, 2, 8, 1, 7, 4]|| iter time: 0.22271394729614258\n",
      "Iteration: 71|| Global Counts: [4, 4, 4, 4, 3, 3, 3, 1, 3, 6, 2, 9, 2, 2, 1, 1, 5, 1, 10, 4, 1, 1, 4, 1, 1, 1, 1, 1, 10, 5, 1, 3, 1, 1, 3, 13, 1, 1, 1, 1, 1, 4, 5, 1, 1, 5, 3, 3, 1, 2, 8, 1, 5, 5, 2]|| iter time: 0.18130087852478027\n",
      "Iteration: 72|| Global Counts: [5, 4, 4, 5, 3, 3, 3, 1, 3, 7, 2, 7, 2, 3, 1, 1, 4, 1, 10, 4, 1, 1, 5, 1, 1, 1, 1, 1, 9, 3, 1, 3, 1, 1, 3, 10, 1, 1, 1, 1, 1, 3, 2, 1, 1, 6, 3, 3, 1, 3, 8, 1, 4, 5, 2]|| iter time: 0.1575760841369629\n",
      "Iteration: 73|| Global Counts: [6, 4, 4, 5, 3, 3, 3, 1, 3, 8, 2, 8, 2, 2, 1, 1, 4, 1, 10, 4, 1, 1, 5, 1, 1, 1, 1, 1, 10, 4, 1, 3, 1, 1, 3, 13, 1, 1, 1, 1, 1, 3, 3, 1, 2, 8, 2, 3, 1, 3, 8, 1, 5, 5, 2]|| iter time: 0.14124011993408203\n",
      "Iteration: 74|| Global Counts: [6, 4, 4, 4, 3, 3, 3, 1, 3, 12, 2, 8, 2, 2, 1, 1, 4, 1, 12, 4, 1, 1, 4, 1, 1, 1, 1, 1, 11, 4, 1, 5, 1, 1, 3, 14, 1, 1, 1, 1, 1, 3, 3, 1, 2, 8, 3, 3, 1, 3, 9, 1, 5, 6, 2]|| iter time: 0.15452980995178223\n",
      "Iteration: 75|| Global Counts: [7, 4, 5, 5, 3, 3, 3, 1, 3, 8, 2, 8, 2, 3, 1, 1, 4, 1, 8, 4, 1, 1, 4, 1, 1, 1, 1, 1, 12, 5, 1, 6, 1, 1, 3, 14, 1, 1, 1, 2, 1, 3, 4, 1, 1, 8, 3, 3, 1, 5, 8, 1, 7, 8, 2, 8, 8]|| iter time: 0.3068881034851074\n",
      "Iteration: 76|| Global Counts: [6, 4, 5, 5, 3, 3, 3, 1, 3, 9, 2, 9, 2, 5, 1, 1, 4, 1, 10, 4, 1, 1, 4, 1, 1, 1, 1, 1, 12, 5, 2, 6, 1, 1, 3, 10, 1, 1, 1, 2, 1, 3, 4, 1, 1, 10, 3, 3, 1, 1, 11, 1, 7, 6, 2, 5, 4, 1, 2]|| iter time: 0.19370794296264648\n",
      "Iteration: 77|| Global Counts: [7, 5, 4, 5, 3, 3, 3, 1, 3, 10, 2, 7, 3, 6, 1, 1, 4, 1, 8, 4, 1, 1, 4, 1, 1, 1, 1, 1, 12, 5, 1, 7, 1, 1, 3, 8, 1, 1, 1, 1, 1, 3, 3, 1, 1, 11, 2, 3, 1, 1, 11, 1, 6, 8, 3, 4, 5, 1, 1]|| iter time: 0.16013884544372559\n",
      "Iteration: 78|| Global Counts: [4, 6, 5, 5, 3, 3, 3, 1, 3, 10, 2, 9, 4, 6, 1, 1, 4, 1, 7, 4, 1, 1, 5, 1, 1, 1, 1, 1, 14, 4, 1, 5, 1, 1, 3, 10, 1, 1, 1, 2, 1, 4, 2, 1, 1, 8, 3, 3, 1, 1, 11, 1, 6, 8, 4, 5, 3, 1, 1, 4]|| iter time: 0.15122294425964355\n",
      "Iteration: 79|| Global Counts: [5, 5, 4, 4, 3, 3, 3, 1, 3, 10, 2, 8, 4, 4, 1, 1, 4, 1, 7, 4, 1, 1, 5, 1, 1, 1, 1, 1, 13, 5, 1, 4, 1, 1, 3, 10, 1, 1, 1, 2, 1, 4, 2, 1, 1, 7, 2, 4, 1, 1, 10, 1, 6, 5, 3, 5, 3, 1, 1, 5]|| iter time: 0.15946412086486816\n",
      "Iteration: 80|| Global Counts: [6, 4, 4, 5, 3, 3, 3, 1, 3, 8, 2, 10, 5, 4, 1, 1, 4, 1, 7, 4, 1, 1, 5, 1, 1, 1, 1, 1, 12, 5, 1, 6, 1, 1, 3, 9, 1, 1, 1, 2, 1, 4, 2, 1, 1, 8, 2, 4, 1, 2, 8, 1, 6, 6, 2, 3, 4, 1, 2, 9, 3, 4]|| iter time: 0.1794888973236084\n",
      "Iteration: 81|| Global Counts: [6, 4, 4, 5, 3, 3, 3, 1, 3, 9, 2, 9, 6, 7, 1, 1, 4, 1, 9, 4, 1, 1, 5, 1, 1, 1, 1, 1, 8, 6, 1, 5, 1, 1, 3, 7, 1, 1, 1, 3, 1, 4, 2, 1, 1, 6, 3, 4, 1, 3, 8, 1, 4, 7, 2, 4, 3, 1, 2, 8, 3, 1]|| iter time: 0.14780902862548828\n",
      "Iteration: 82|| Global Counts: [6, 4, 4, 5, 3, 3, 3, 1, 3, 9, 2, 9, 4, 5, 1, 1, 4, 1, 9, 4, 1, 1, 5, 1, 1, 1, 1, 1, 9, 4, 1, 5, 1, 1, 3, 7, 1, 1, 1, 1, 1, 3, 3, 1, 1, 6, 2, 5, 1, 4, 8, 1, 5, 8, 2, 4, 3, 1, 1, 9, 3, 1]|| iter time: 0.15371298789978027\n",
      "Iteration: 83|| Global Counts: [5, 4, 4, 5, 3, 3, 3, 1, 3, 9, 2, 7, 2, 4, 1, 1, 4, 1, 7, 4, 1, 1, 4, 1, 1, 1, 1, 1, 7, 6, 1, 5, 1, 1, 3, 8, 1, 1, 1, 1, 1, 3, 4, 1, 2, 7, 2, 7, 1, 4, 8, 1, 3, 6, 3, 7, 3, 1, 1, 8, 4, 1, 3]|| iter time: 0.17255616188049316\n",
      "Iteration: 84|| Global Counts: [7, 4, 4, 5, 3, 3, 3, 1, 3, 6, 2, 9, 2, 4, 1, 1, 4, 1, 5, 4, 1, 1, 4, 1, 1, 1, 1, 1, 8, 5, 1, 6, 1, 1, 3, 6, 1, 1, 1, 2, 1, 3, 4, 1, 4, 6, 2, 8, 1, 5, 8, 1, 5, 7, 1, 5, 4, 2, 1, 7, 3, 1, 4]|| iter time: 0.16224384307861328\n",
      "Iteration: 85|| Global Counts: [5, 4, 5, 5, 3, 3, 3, 1, 3, 8, 2, 8, 2, 4, 1, 1, 4, 1, 7, 4, 1, 1, 4, 1, 1, 1, 1, 1, 6, 4, 1, 5, 1, 1, 3, 6, 1, 1, 1, 2, 1, 3, 5, 1, 6, 8, 3, 5, 1, 6, 8, 1, 5, 7, 2, 5, 4, 1, 1, 7, 2, 1, 5, 4, 2]|| iter time: 0.18712496757507324\n",
      "Iteration: 86|| Global Counts: [6, 4, 4, 4, 3, 3, 3, 1, 3, 8, 2, 8, 2, 4, 1, 1, 4, 1, 10, 4, 1, 1, 4, 1, 1, 1, 1, 1, 7, 5, 1, 4, 1, 1, 3, 8, 1, 1, 1, 2, 1, 3, 6, 1, 5, 10, 2, 6, 1, 4, 8, 1, 5, 6, 1, 6, 2, 2, 1, 5, 1, 1, 4, 5, 2, 4]|| iter time: 0.16141009330749512\n",
      "Iteration: 87|| Global Counts: [6, 4, 5, 5, 3, 3, 3, 1, 3, 9, 2, 7, 2, 3, 1, 1, 4, 1, 6, 4, 1, 1, 5, 1, 1, 1, 1, 1, 8, 3, 1, 3, 1, 1, 3, 8, 1, 1, 1, 2, 1, 3, 6, 1, 6, 9, 2, 4, 1, 3, 8, 1, 5, 6, 1, 5, 2, 4, 1, 5, 1, 1, 3, 4, 3, 4, 5]|| iter time: 0.18423700332641602\n",
      "Iteration: 88|| Global Counts: [7, 4, 5, 4, 3, 3, 3, 1, 3, 10, 2, 5, 2, 4, 1, 1, 4, 1, 5, 4, 1, 1, 5, 1, 1, 1, 1, 1, 8, 3, 1, 3, 1, 1, 3, 8, 1, 1, 1, 1, 1, 3, 5, 1, 6, 6, 3, 5, 1, 3, 8, 1, 7, 7, 1, 4, 2, 2, 1, 5, 2, 1, 4, 4, 3, 2, 3]|| iter time: 0.16875386238098145\n",
      "Iteration: 89|| Global Counts: [6, 4, 4, 4, 3, 3, 3, 1, 3, 13, 2, 5, 2, 3, 1, 1, 4, 1, 4, 4, 1, 1, 4, 1, 1, 1, 1, 1, 7, 2, 1, 4, 1, 1, 3, 10, 1, 1, 1, 2, 1, 3, 4, 1, 6, 6, 3, 6, 1, 3, 8, 1, 4, 7, 1, 4, 2, 3, 1, 3, 1, 1, 3, 4, 3, 3, 3]|| iter time: 0.18792295455932617\n",
      "Iteration: 90|| Global Counts: [7, 4, 4, 5, 3, 3, 3, 1, 3, 11, 2, 5, 3, 3, 1, 1, 4, 1, 5, 4, 1, 1, 4, 1, 1, 1, 1, 1, 8, 3, 1, 6, 1, 1, 3, 11, 1, 1, 1, 2, 1, 3, 6, 1, 4, 5, 3, 7, 1, 2, 8, 1, 6, 7, 1, 5, 2, 3, 1, 4, 1, 1, 2, 4, 3, 5, 3, 7]|| iter time: 0.1849079132080078\n",
      "Iteration: 91|| Global Counts: [7, 4, 4, 5, 3, 3, 3, 1, 3, 8, 2, 4, 2, 4, 1, 1, 4, 1, 5, 4, 1, 1, 4, 1, 1, 1, 1, 1, 8, 3, 2, 8, 1, 1, 3, 7, 1, 1, 1, 3, 1, 4, 5, 1, 5, 6, 3, 8, 1, 3, 9, 1, 5, 6, 1, 5, 2, 3, 1, 6, 1, 2, 2, 3, 3, 3, 3, 5, 7]|| iter time: 0.34218311309814453\n",
      "Iteration: 92|| Global Counts: [7, 4, 4, 5, 3, 3, 3, 1, 3, 8, 2, 5, 2, 4, 1, 1, 4, 1, 5, 4, 1, 1, 5, 1, 1, 1, 1, 1, 8, 4, 2, 8, 1, 1, 3, 1, 1, 1, 1, 5, 1, 2, 2, 1, 4, 6, 2, 8, 1, 2, 8, 1, 7, 8, 1, 5, 3, 2, 1, 7, 1, 3, 3, 4, 2, 4, 4, 5, 5, 5, 1]|| iter time: 0.17868304252624512\n",
      "Iteration: 93|| Global Counts: [6, 5, 4, 5, 3, 3, 3, 1, 3, 8, 2, 5, 3, 4, 1, 1, 4, 1, 5, 4, 1, 1, 4, 1, 1, 1, 1, 1, 7, 4, 4, 5, 1, 1, 3, 1, 1, 1, 1, 7, 1, 2, 2, 1, 2, 5, 2, 6, 1, 1, 9, 1, 7, 6, 2, 4, 2, 1, 1, 7, 2, 3, 3, 4, 3, 4, 5, 3, 4, 1, 1]|| iter time: 0.3096928596496582\n",
      "Iteration: 94|| Global Counts: [6, 4, 4, 5, 3, 3, 3, 1, 3, 8, 2, 6, 2, 2, 1, 1, 4, 1, 5, 4, 1, 1, 4, 1, 1, 1, 1, 1, 6, 5, 5, 8, 1, 1, 3, 1, 1, 1, 1, 8, 1, 2, 2, 1, 2, 5, 2, 8, 1, 2, 10, 1, 4, 7, 1, 4, 2, 1, 1, 9, 2, 2, 1, 4, 2, 5, 6, 4, 4, 1, 1]|| iter time: 0.16549205780029297\n",
      "Iteration: 95|| Global Counts: [6, 5, 4, 4, 3, 3, 3, 1, 3, 8, 2, 6, 2, 2, 1, 1, 4, 1, 5, 4, 1, 1, 3, 1, 1, 1, 1, 1, 6, 4, 2, 7, 1, 1, 3, 1, 1, 1, 1, 10, 1, 3, 2, 1, 3, 5, 2, 7, 1, 2, 9, 1, 6, 5, 1, 4, 3, 2, 6, 1, 2, 2, 4, 3, 4, 4, 4, 5, 1, 1]|| iter time: 0.16985297203063965\n",
      "Iteration: 96|| Global Counts: [7, 4, 4, 4, 3, 3, 3, 1, 3, 7, 2, 5, 3, 2, 1, 1, 4, 1, 5, 4, 1, 1, 4, 1, 1, 1, 1, 1, 7, 4, 3, 5, 1, 1, 3, 1, 1, 1, 1, 8, 1, 4, 2, 1, 2, 4, 2, 3, 1, 1, 9, 1, 7, 7, 2, 4, 2, 2, 7, 2, 1, 1, 5, 4, 5, 4, 4, 5, 1, 1]|| iter time: 0.18433499336242676\n",
      "Iteration: 97|| Global Counts: [6, 4, 4, 5, 3, 3, 3, 1, 3, 11, 2, 5, 4, 2, 1, 1, 4, 1, 5, 4, 1, 1, 5, 1, 1, 1, 1, 1, 7, 4, 4, 7, 1, 1, 3, 1, 1, 1, 1, 8, 1, 3, 2, 1, 2, 4, 3, 3, 1, 1, 8, 1, 7, 8, 3, 4, 2, 2, 6, 3, 2, 2, 4, 1, 3, 4, 4, 5, 2, 1, 8]|| iter time: 0.21081113815307617\n",
      "Iteration: 98|| Global Counts: [7, 4, 4, 4, 3, 3, 3, 1, 3, 6, 2, 7, 3, 2, 1, 1, 4, 1, 4, 4, 1, 1, 4, 1, 1, 1, 1, 1, 8, 3, 6, 7, 1, 1, 3, 1, 1, 1, 1, 8, 1, 3, 2, 1, 3, 4, 3, 3, 1, 1, 8, 1, 4, 4, 3, 4, 2, 2, 6, 4, 3, 2, 4, 1, 3, 4, 4, 6, 2, 1, 4, 3]|| iter time: 0.19884586334228516\n"
     ]
    },
    {
     "name": "stdout",
     "output_type": "stream",
     "text": [
      "Iteration: 99|| Global Counts: [5, 4, 4, 5, 3, 3, 3, 1, 3, 6, 2, 8, 3, 2, 1, 1, 4, 1, 4, 4, 1, 1, 5, 1, 1, 1, 1, 1, 8, 2, 4, 8, 1, 1, 3, 1, 1, 1, 1, 9, 1, 3, 3, 1, 3, 4, 3, 3, 1, 2, 8, 2, 3, 2, 1, 4, 2, 1, 5, 4, 2, 3, 5, 2, 4, 5, 4, 6, 2, 2, 4, 1]|| iter time: 0.19680094718933105\n",
      "Iteration: 100|| Global Counts: [6, 4, 4, 4, 3, 3, 3, 1, 3, 6, 2, 7, 3, 2, 1, 1, 4, 1, 4, 4, 1, 1, 5, 1, 1, 1, 1, 1, 5, 2, 3, 7, 1, 1, 3, 1, 1, 1, 1, 9, 1, 3, 2, 1, 2, 4, 2, 3, 1, 2, 8, 1, 4, 4, 1, 3, 2, 2, 8, 4, 1, 3, 5, 2, 5, 5, 4, 5, 1, 2, 5, 2, 4, 5]|| iter time: 0.18584704399108887\n",
      "11.334589719772339\n"
     ]
    },
    {
     "data": {
      "text/plain": [
       "0.962523875682653"
      ]
     },
     "execution_count": 12,
     "metadata": {},
     "output_type": "execute_result"
    }
   ],
   "source": [
    "gdim = 8\n",
    "pts,labels = generate_data(gdim,4,5000,15.0)\n",
    "run_and_compare(pts,labels,gdim)"
   ]
  },
  {
   "cell_type": "markdown",
   "metadata": {},
   "source": [
    "### D:15 N:50000"
   ]
  },
  {
   "cell_type": "code",
   "execution_count": 13,
   "metadata": {},
   "outputs": [
    {
     "name": "stdout",
     "output_type": "stream",
     "text": [
      "Iteration: 1|| Global Counts: [4]|| iter time: 0.22115683555603027\n",
      "Iteration: 2|| Global Counts: [4]|| iter time: 0.21135401725769043\n",
      "Iteration: 3|| Global Counts: [4]|| iter time: 0.25061893463134766\n",
      "Iteration: 4|| Global Counts: [4]|| iter time: 0.1435379981994629\n",
      "Iteration: 5|| Global Counts: [4, 4]|| iter time: 0.3407571315765381\n",
      "Iteration: 6|| Global Counts: [4, 4]|| iter time: 0.20615506172180176\n",
      "Iteration: 7|| Global Counts: [4, 4]|| iter time: 0.1717989444732666\n",
      "Iteration: 8|| Global Counts: [4, 4]|| iter time: 0.17197489738464355\n",
      "Iteration: 9|| Global Counts: [4, 4]|| iter time: 0.16083312034606934\n",
      "Iteration: 10|| Global Counts: [4, 4, 4, 4]|| iter time: 0.16608214378356934\n",
      "Iteration: 11|| Global Counts: [4, 4, 4, 4]|| iter time: 0.20890498161315918\n",
      "Iteration: 12|| Global Counts: [4, 4, 4, 4]|| iter time: 0.22586393356323242\n",
      "Iteration: 13|| Global Counts: [4, 4, 4, 4]|| iter time: 0.20958709716796875\n",
      "Iteration: 14|| Global Counts: [4, 4, 4, 4]|| iter time: 0.21988511085510254\n",
      "Iteration: 15|| Global Counts: [4, 4, 4, 4, 4, 4]|| iter time: 0.23192691802978516\n",
      "Iteration: 16|| Global Counts: [4, 4, 4, 4, 4, 4]|| iter time: 0.29315686225891113\n",
      "Iteration: 17|| Global Counts: [4, 4, 4, 4, 4, 4]|| iter time: 0.2932310104370117\n",
      "Iteration: 18|| Global Counts: [4, 4, 4, 4, 4, 4]|| iter time: 0.2518889904022217\n",
      "Iteration: 19|| Global Counts: [4, 4, 4, 4, 4, 4]|| iter time: 0.2718820571899414\n",
      "Iteration: 20|| Global Counts: [4, 4, 4, 4, 4, 4, 4, 4, 4]|| iter time: 0.2527499198913574\n",
      "Iteration: 21|| Global Counts: [4, 4, 4, 5, 4, 4, 3, 4, 4]|| iter time: 0.32984304428100586\n",
      "Iteration: 22|| Global Counts: [4, 4, 4, 5, 4, 4, 3, 4, 4]|| iter time: 0.32320594787597656\n",
      "Iteration: 23|| Global Counts: [4, 4, 4, 5, 4, 4, 3, 4, 4]|| iter time: 0.31778502464294434\n",
      "Iteration: 24|| Global Counts: [4, 4, 4, 6, 4, 4, 3, 4, 4]|| iter time: 0.3231089115142822\n",
      "Iteration: 25|| Global Counts: [4, 4, 4, 6, 4, 4, 3, 4, 4, 4, 3, 4, 4]|| iter time: 0.334705114364624\n",
      "Iteration: 26|| Global Counts: [4, 4, 4, 6, 4, 4, 1, 4, 4, 4, 2, 3, 4]|| iter time: 0.4079158306121826\n",
      "Iteration: 27|| Global Counts: [4, 4, 4, 7, 4, 4, 1, 5, 4, 4, 2, 3, 4]|| iter time: 0.41806817054748535\n",
      "Iteration: 28|| Global Counts: [4, 4, 4, 6, 4, 4, 1, 4, 4, 4, 2, 3, 4]|| iter time: 0.40903306007385254\n",
      "Iteration: 29|| Global Counts: [4, 4, 4, 6, 4, 4, 1, 4, 4, 4, 2, 3, 4]|| iter time: 0.5549230575561523\n",
      "Iteration: 30|| Global Counts: [4, 4, 4, 5, 4, 4, 1, 4, 4, 4, 2, 3, 4, 4, 4, 4, 4]|| iter time: 0.6626040935516357\n",
      "Iteration: 31|| Global Counts: [4, 4, 4, 6, 4, 4, 1, 4, 3, 4, 2, 3, 2, 4, 5, 4, 2]|| iter time: 0.49686288833618164\n",
      "Iteration: 32|| Global Counts: [4, 4, 4, 4, 4, 4, 1, 5, 3, 5, 2, 3, 2, 4, 5, 4, 2]|| iter time: 0.4971771240234375\n",
      "Iteration: 33|| Global Counts: [4, 4, 4, 4, 4, 4, 1, 5, 3, 5, 2, 3, 2, 4, 5, 4, 2]|| iter time: 0.4754488468170166\n",
      "Iteration: 34|| Global Counts: [4, 4, 4, 5, 4, 4, 1, 4, 3, 6, 2, 3, 2, 4, 5, 4, 2]|| iter time: 0.5742518901824951\n",
      "Iteration: 35|| Global Counts: [4, 4, 4, 6, 4, 4, 1, 4, 3, 7, 2, 3, 2, 4, 5, 4, 2, 4, 7, 2, 4, 4]|| iter time: 0.6645350456237793\n",
      "Iteration: 36|| Global Counts: [4, 4, 4, 5, 4, 4, 1, 5, 3, 2, 2, 3, 1, 4, 5, 1, 2, 4, 6, 1, 3, 4]|| iter time: 0.6277761459350586\n",
      "Iteration: 37|| Global Counts: [4, 4, 4, 5, 4, 4, 1, 5, 3, 2, 2, 3, 1, 4, 5, 1, 2, 4, 7, 1, 3, 5]|| iter time: 0.6465840339660645\n",
      "Iteration: 38|| Global Counts: [4, 4, 4, 7, 4, 4, 1, 5, 4, 2, 2, 3, 1, 4, 5, 1, 2, 4, 6, 1, 3, 5]|| iter time: 0.5805239677429199\n",
      "Iteration: 39|| Global Counts: [4, 4, 4, 6, 4, 4, 1, 4, 3, 2, 2, 3, 1, 4, 5, 1, 2, 4, 7, 1, 3, 3]|| iter time: 0.7788629531860352\n",
      "Iteration: 40|| Global Counts: [4, 4, 4, 6, 4, 4, 1, 5, 3, 2, 2, 3, 1, 4, 5, 1, 2, 4, 7, 1, 3, 3, 4, 4, 2, 4, 3]|| iter time: 0.663254976272583\n",
      "Iteration: 41|| Global Counts: [4, 4, 4, 6, 4, 4, 1, 4, 3, 2, 2, 3, 1, 3, 5, 1, 2, 4, 6, 1, 3, 4, 4, 5, 2, 4, 2]|| iter time: 0.7741909027099609\n",
      "Iteration: 42|| Global Counts: [4, 4, 4, 5, 4, 4, 1, 4, 4, 2, 2, 3, 1, 3, 6, 1, 2, 4, 5, 1, 1, 3, 4, 7, 1, 4, 2]|| iter time: 0.7587440013885498\n",
      "Iteration: 43|| Global Counts: [4, 4, 4, 7, 4, 4, 1, 5, 5, 2, 2, 3, 1, 3, 6, 1, 2, 4, 5, 1, 1, 3, 4, 6, 1, 4, 2]|| iter time: 0.7537450790405273\n",
      "Iteration: 44|| Global Counts: [4, 4, 4, 7, 4, 4, 1, 4, 5, 2, 2, 3, 1, 3, 5, 1, 2, 4, 6, 1, 1, 3, 4, 3, 1, 4, 2]|| iter time: 0.7491359710693359\n",
      "Iteration: 45|| Global Counts: [4, 4, 4, 5, 4, 5, 1, 5, 6, 2, 2, 3, 1, 3, 5, 1, 2, 4, 6, 1, 1, 3, 4, 3, 1, 4, 2, 5, 3, 4, 4, 4]|| iter time: 0.819692850112915\n",
      "Iteration: 46|| Global Counts: [4, 4, 4, 5, 4, 2, 1, 5, 7, 2, 2, 3, 1, 3, 5, 1, 2, 4, 6, 1, 1, 2, 4, 3, 1, 4, 2, 7, 2, 4, 4, 4]|| iter time: 1.0163328647613525\n",
      "Iteration: 47|| Global Counts: [4, 4, 4, 5, 4, 2, 1, 4, 5, 2, 2, 3, 1, 3, 5, 1, 2, 4, 5, 1, 1, 2, 4, 4, 1, 4, 2, 1, 2, 4, 4, 4]|| iter time: 0.8070847988128662\n",
      "Iteration: 48|| Global Counts: [4, 4, 4, 6, 4, 2, 1, 4, 6, 2, 2, 3, 1, 3, 6, 1, 2, 2, 6, 1, 1, 2, 4, 4, 1, 3, 2, 1, 2, 4, 4, 4]|| iter time: 0.853726863861084\n",
      "Iteration: 49|| Global Counts: [4, 4, 4, 5, 4, 2, 1, 4, 6, 2, 2, 3, 1, 3, 6, 1, 2, 2, 5, 1, 1, 2, 4, 4, 1, 3, 2, 1, 2, 4, 4, 4]|| iter time: 0.773237943649292\n",
      "Iteration: 50|| Global Counts: [4, 4, 4, 4, 4, 2, 1, 4, 5, 2, 2, 3, 1, 3, 5, 1, 2, 2, 5, 1, 1, 2, 4, 2, 1, 3, 2, 1, 2, 4, 4, 4, 2, 4, 3, 4, 4, 4]|| iter time: 0.8601539134979248\n",
      "Iteration: 51|| Global Counts: [4, 4, 4, 4, 4, 2, 1, 5, 5, 2, 2, 3, 1, 3, 4, 1, 2, 1, 6, 1, 1, 2, 5, 3, 1, 2, 2, 1, 2, 4, 4, 5, 3, 4, 3, 3, 4, 4]|| iter time: 0.9059610366821289\n",
      "Iteration: 52|| Global Counts: [4, 4, 4, 5, 4, 2, 1, 5, 4, 2, 2, 3, 1, 3, 5, 1, 2, 1, 7, 1, 1, 2, 7, 4, 1, 2, 2, 1, 2, 4, 4, 6, 3, 4, 3, 3, 4, 4]|| iter time: 1.0014598369598389\n",
      "Iteration: 53|| Global Counts: [4, 4, 4, 6, 4, 2, 1, 5, 5, 2, 2, 3, 1, 3, 5, 1, 2, 1, 5, 1, 1, 2, 7, 4, 1, 2, 2, 1, 2, 4, 4, 4, 2, 4, 3, 2, 4, 4]|| iter time: 1.0428259372711182\n",
      "Iteration: 54|| Global Counts: [4, 4, 4, 5, 4, 2, 1, 5, 4, 2, 2, 3, 1, 3, 6, 1, 2, 1, 6, 1, 1, 2, 6, 3, 1, 2, 2, 1, 2, 4, 4, 5, 2, 4, 3, 1, 4, 4]|| iter time: 0.9474749565124512\n",
      "Iteration: 55|| Global Counts: [4, 4, 4, 6, 4, 2, 1, 4, 3, 2, 2, 3, 1, 3, 6, 1, 2, 1, 5, 1, 1, 2, 7, 4, 1, 2, 2, 1, 2, 4, 4, 5, 2, 4, 3, 1, 4, 4, 7, 4, 4, 4, 4, 4]|| iter time: 0.9623229503631592\n",
      "Iteration: 56|| Global Counts: [4, 4, 4, 6, 4, 2, 1, 4, 4, 2, 2, 3, 1, 3, 6, 1, 2, 1, 6, 1, 1, 2, 4, 4, 1, 2, 2, 1, 2, 3, 4, 4, 2, 4, 3, 1, 3, 3, 6, 2, 3, 4, 5, 5, 4]|| iter time: 1.1884210109710693\n",
      "Iteration: 57|| Global Counts: [4, 4, 4, 5, 4, 2, 1, 4, 5, 2, 2, 3, 1, 3, 6, 1, 2, 1, 9, 1, 1, 2, 4, 5, 1, 2, 2, 1, 2, 3, 4, 2, 2, 4, 3, 1, 3, 3, 4, 2, 3, 4, 5, 5, 2]|| iter time: 1.0979890823364258\n",
      "Iteration: 58|| Global Counts: [4, 4, 4, 6, 4, 2, 1, 5, 7, 2, 2, 3, 1, 3, 5, 1, 2, 1, 11, 1, 1, 2, 4, 5, 1, 2, 2, 1, 2, 3, 4, 2, 2, 4, 3, 1, 3, 3, 5, 2, 3, 4, 6, 5, 2]|| iter time: 1.046180009841919\n",
      "Iteration: 59|| Global Counts: [4, 4, 4, 6, 4, 2, 1, 5, 8, 2, 2, 3, 1, 3, 4, 1, 2, 1, 8, 1, 1, 2, 5, 4, 1, 2, 2, 1, 2, 3, 4, 2, 2, 4, 3, 1, 3, 3, 5, 2, 3, 4, 5, 5, 2]|| iter time: 1.3144419193267822\n",
      "Iteration: 60|| Global Counts: [4, 4, 4, 6, 4, 2, 1, 4, 8, 2, 2, 3, 1, 3, 5, 1, 2, 1, 9, 1, 1, 2, 5, 4, 1, 2, 2, 1, 2, 3, 4, 2, 2, 4, 3, 1, 3, 3, 7, 2, 3, 4, 4, 5, 2, 4, 4, 3, 3, 7, 3, 4, 5]|| iter time: 1.0581629276275635\n",
      "Iteration: 61|| Global Counts: [4, 4, 4, 6, 4, 2, 1, 4, 6, 2, 2, 3, 1, 3, 5, 1, 2, 1, 9, 1, 1, 2, 4, 2, 1, 2, 2, 1, 2, 3, 4, 2, 2, 4, 3, 1, 2, 1, 5, 2, 1, 5, 4, 4, 2, 5, 3, 1, 2, 2, 2, 4, 1, 2, 4]|| iter time: 1.3318848609924316\n",
      "Iteration: 62|| Global Counts: [4, 4, 4, 5, 4, 2, 1, 4, 6, 2, 2, 3, 1, 3, 6, 1, 2, 1, 6, 1, 1, 2, 4, 3, 1, 2, 2, 1, 2, 3, 4, 2, 2, 4, 3, 1, 2, 1, 3, 2, 1, 4, 5, 4, 2, 5, 3, 1, 2, 2, 2, 5, 1, 1, 1]|| iter time: 1.2986268997192383\n",
      "Iteration: 63|| Global Counts: [4, 4, 4, 6, 4, 2, 1, 4, 7, 2, 2, 3, 1, 3, 5, 1, 2, 1, 8, 1, 1, 2, 6, 3, 1, 2, 2, 1, 2, 3, 5, 2, 2, 4, 3, 1, 2, 1, 5, 2, 1, 4, 8, 3, 2, 5, 3, 1, 2, 2, 2, 5, 1, 1, 1, 2]|| iter time: 1.2883100509643555\n",
      "Iteration: 64|| Global Counts: [4, 4, 4, 5, 4, 2, 1, 4, 6, 2, 2, 3, 1, 3, 5, 1, 2, 1, 9, 1, 1, 2, 5, 4, 1, 2, 2, 1, 2, 3, 6, 2, 2, 4, 3, 1, 2, 1, 3, 2, 1, 4, 8, 3, 3, 7, 3, 1, 2, 2, 2, 5, 1, 1, 1, 1]|| iter time: 1.567478895187378\n",
      "Iteration: 65|| Global Counts: [4, 4, 4, 5, 4, 2, 1, 5, 5, 2, 2, 3, 1, 3, 5, 1, 2, 1, 11, 1, 1, 2, 5, 3, 1, 2, 2, 1, 2, 3, 8, 2, 2, 4, 3, 1, 2, 1, 3, 2, 1, 4, 10, 4, 2, 6, 3, 1, 2, 2, 2, 4, 1, 1, 1, 1, 1, 8, 3, 6, 3, 4]|| iter time: 1.3285410404205322\n"
     ]
    },
    {
     "name": "stdout",
     "output_type": "stream",
     "text": [
      "Iteration: 66|| Global Counts: [4, 4, 4, 5, 4, 2, 1, 5, 6, 2, 2, 3, 1, 3, 6, 1, 2, 1, 12, 1, 1, 2, 6, 3, 1, 2, 2, 1, 2, 3, 5, 2, 2, 4, 3, 1, 2, 1, 2, 2, 1, 4, 9, 4, 2, 5, 4, 1, 2, 2, 2, 3, 1, 1, 1, 1, 1, 4, 4, 4, 3, 1, 1]|| iter time: 1.6176300048828125\n",
      "Iteration: 67|| Global Counts: [4, 4, 4, 5, 4, 2, 1, 5, 5, 2, 2, 3, 1, 3, 5, 1, 2, 1, 13, 1, 1, 2, 6, 3, 1, 2, 2, 1, 2, 3, 4, 2, 2, 4, 3, 1, 2, 1, 3, 2, 1, 5, 7, 4, 2, 5, 5, 1, 2, 1, 2, 4, 1, 1, 1, 1, 1, 5, 5, 3, 3, 1, 2]|| iter time: 1.558840036392212\n",
      "Iteration: 68|| Global Counts: [4, 4, 4, 6, 4, 2, 1, 4, 7, 2, 2, 3, 1, 3, 6, 1, 2, 2, 10, 1, 1, 2, 5, 4, 1, 2, 2, 1, 2, 3, 4, 2, 2, 4, 3, 1, 2, 1, 2, 2, 1, 5, 8, 4, 2, 6, 7, 1, 2, 1, 2, 4, 1, 1, 1, 1, 1, 4, 4, 3, 3, 1, 3, 5]|| iter time: 1.6090800762176514\n",
      "Iteration: 69|| Global Counts: [4, 4, 4, 6, 4, 2, 1, 5, 5, 2, 2, 3, 1, 3, 6, 1, 2, 2, 10, 1, 1, 2, 5, 3, 1, 2, 2, 1, 2, 3, 5, 2, 2, 4, 3, 1, 2, 1, 2, 2, 1, 4, 9, 3, 2, 6, 8, 1, 2, 1, 2, 3, 1, 1, 1, 1, 1, 4, 4, 3, 3, 1, 4, 3]|| iter time: 1.6980159282684326\n",
      "Iteration: 70|| Global Counts: [4, 4, 4, 6, 4, 2, 1, 5, 3, 2, 2, 3, 1, 3, 6, 1, 2, 3, 11, 1, 1, 2, 4, 3, 1, 2, 2, 1, 2, 3, 5, 2, 2, 4, 3, 1, 2, 1, 1, 2, 1, 6, 9, 4, 2, 5, 6, 1, 2, 1, 2, 4, 1, 1, 1, 1, 1, 3, 5, 3, 3, 1, 2, 4, 5, 5, 6, 3]|| iter time: 1.6011950969696045\n",
      "Iteration: 71|| Global Counts: [4, 4, 4, 7, 4, 2, 1, 4, 4, 2, 2, 3, 1, 3, 6, 1, 2, 3, 13, 1, 1, 2, 5, 3, 1, 2, 2, 1, 2, 3, 2, 2, 2, 4, 3, 1, 2, 1, 1, 2, 1, 5, 8, 3, 2, 3, 5, 1, 2, 1, 2, 3, 1, 1, 1, 1, 1, 4, 4, 5, 3, 1, 3, 5, 5, 5, 1, 2, 4]|| iter time: 1.8564949035644531\n",
      "Iteration: 72|| Global Counts: [4, 4, 4, 6, 4, 2, 1, 4, 4, 2, 2, 3, 1, 3, 5, 1, 2, 3, 14, 1, 1, 2, 4, 5, 1, 2, 2, 1, 2, 3, 2, 2, 2, 4, 3, 1, 2, 1, 1, 2, 1, 6, 7, 3, 2, 3, 8, 1, 2, 1, 2, 3, 1, 1, 1, 1, 1, 1, 3, 7, 3, 2, 3, 4, 6, 5, 2, 2, 4]|| iter time: 1.8172669410705566\n",
      "Iteration: 73|| Global Counts: [4, 4, 4, 6, 4, 2, 1, 4, 6, 2, 2, 3, 1, 3, 4, 1, 2, 3, 12, 1, 1, 2, 5, 5, 1, 2, 2, 1, 2, 3, 2, 2, 2, 4, 3, 1, 2, 1, 1, 2, 1, 7, 9, 4, 2, 4, 9, 1, 2, 1, 2, 1, 1, 1, 1, 1, 1, 2, 2, 8, 3, 3, 3, 4, 6, 6, 3, 2, 4]|| iter time: 1.7725069522857666\n",
      "Iteration: 74|| Global Counts: [4, 4, 4, 7, 4, 2, 1, 5, 6, 2, 2, 3, 1, 3, 5, 1, 2, 3, 12, 1, 1, 2, 5, 4, 1, 2, 2, 1, 2, 3, 2, 2, 2, 5, 3, 1, 2, 1, 1, 2, 1, 8, 10, 3, 2, 4, 9, 1, 2, 1, 2, 1, 1, 1, 1, 1, 1, 2, 2, 7, 3, 1, 4, 3, 8, 6, 2, 2, 3, 2]|| iter time: 1.7439510822296143\n",
      "merged:[47, 62]\n",
      "Iteration: 75|| Global Counts: [4, 4, 4, 7, 4, 2, 1, 5, 6, 2, 2, 3, 1, 3, 5, 1, 2, 3, 10, 1, 1, 2, 5, 4, 1, 2, 2, 1, 2, 3, 3, 2, 2, 6, 3, 1, 2, 1, 1, 2, 1, 7, 8, 4, 2, 4, 10, 1, 2, 1, 2, 1, 1, 1, 1, 1, 1, 3, 4, 7, 3, 3, 4, 8, 7, 2, 2, 4, 1, 3, 4, 2]|| iter time: 1.7229759693145752\n",
      "Iteration: 76|| Global Counts: [4, 4, 4, 5, 4, 2, 1, 4, 5, 2, 2, 3, 1, 3, 6, 1, 2, 3, 10, 1, 1, 2, 4, 4, 1, 2, 2, 1, 2, 3, 2, 2, 2, 5, 3, 1, 2, 1, 1, 2, 1, 8, 6, 3, 2, 2, 11, 1, 2, 1, 2, 1, 1, 1, 1, 1, 1, 3, 5, 7, 3, 4, 4, 9, 5, 3, 3, 4, 1, 2, 5, 1]|| iter time: 1.9725780487060547\n",
      "Iteration: 77|| Global Counts: [4, 4, 4, 6, 4, 2, 1, 5, 6, 2, 2, 3, 1, 3, 6, 1, 2, 2, 8, 1, 1, 2, 4, 3, 1, 2, 2, 1, 2, 3, 1, 2, 2, 6, 3, 1, 2, 1, 1, 2, 1, 5, 7, 3, 2, 2, 9, 1, 2, 1, 2, 1, 1, 1, 1, 1, 1, 4, 3, 8, 3, 4, 4, 11, 5, 2, 3, 4, 1, 1, 5, 1]|| iter time: 1.764753818511963\n",
      "Iteration: 78|| Global Counts: [4, 4, 4, 7, 4, 2, 1, 4, 5, 2, 2, 3, 1, 3, 6, 1, 2, 2, 11, 1, 1, 2, 7, 5, 1, 2, 2, 1, 3, 3, 1, 2, 2, 6, 3, 1, 2, 1, 1, 2, 1, 7, 8, 3, 2, 2, 8, 1, 2, 1, 2, 1, 1, 1, 1, 1, 1, 3, 3, 11, 3, 4, 5, 10, 7, 1, 2, 4, 1, 2, 4, 1]|| iter time: 1.7371718883514404\n",
      "Iteration: 79|| Global Counts: [4, 4, 4, 6, 4, 2, 1, 4, 6, 2, 2, 3, 1, 3, 5, 1, 2, 2, 12, 1, 1, 2, 6, 5, 1, 2, 2, 1, 3, 3, 1, 2, 2, 6, 3, 1, 2, 1, 1, 2, 1, 5, 9, 3, 2, 2, 7, 1, 2, 1, 2, 1, 1, 1, 1, 1, 1, 5, 3, 12, 3, 4, 4, 9, 6, 3, 3, 4, 1, 2, 3, 1, 6]|| iter time: 1.8121531009674072\n",
      "Iteration: 80|| Global Counts: [4, 4, 4, 7, 4, 2, 1, 5, 6, 2, 2, 3, 1, 3, 5, 1, 2, 3, 12, 1, 1, 2, 5, 3, 1, 2, 2, 1, 3, 3, 1, 2, 2, 6, 3, 1, 2, 1, 1, 2, 1, 5, 6, 4, 2, 2, 5, 1, 2, 1, 2, 1, 1, 1, 1, 1, 1, 3, 3, 13, 3, 3, 4, 11, 4, 3, 3, 5, 1, 2, 3, 1, 3, 2]|| iter time: 2.0119500160217285\n",
      "Iteration: 81|| Global Counts: [4, 4, 4, 6, 4, 2, 1, 5, 6, 2, 2, 3, 1, 3, 6, 1, 2, 3, 13, 1, 1, 2, 6, 3, 1, 2, 2, 1, 3, 3, 1, 2, 2, 6, 3, 1, 2, 1, 1, 2, 1, 3, 7, 4, 2, 1, 5, 1, 2, 1, 2, 1, 1, 1, 1, 1, 1, 4, 5, 10, 3, 3, 4, 9, 4, 3, 3, 4, 1, 2, 3, 1, 2, 2]|| iter time: 1.9157280921936035\n",
      "Iteration: 82|| Global Counts: [4, 4, 4, 6, 4, 2, 1, 5, 4, 2, 2, 3, 1, 3, 5, 1, 2, 2, 14, 1, 1, 2, 6, 4, 1, 2, 2, 1, 3, 3, 2, 2, 2, 6, 3, 1, 2, 1, 1, 2, 1, 3, 7, 3, 2, 1, 6, 1, 2, 1, 2, 1, 1, 1, 1, 1, 1, 4, 4, 9, 3, 4, 4, 7, 3, 4, 3, 3, 1, 1, 3, 1, 2, 2]|| iter time: 1.9508230686187744\n",
      "Iteration: 83|| Global Counts: [4, 4, 4, 6, 4, 2, 1, 4, 4, 2, 2, 3, 1, 3, 5, 1, 2, 2, 10, 1, 1, 2, 6, 3, 1, 2, 2, 1, 3, 3, 2, 2, 2, 6, 3, 1, 2, 1, 1, 2, 1, 3, 7, 3, 2, 1, 8, 1, 2, 1, 2, 1, 1, 1, 1, 1, 1, 4, 5, 8, 3, 3, 3, 12, 3, 2, 3, 3, 1, 2, 3, 1, 3, 2]|| iter time: 1.8442909717559814\n",
      "Iteration: 84|| Global Counts: [4, 4, 4, 6, 4, 2, 1, 4, 6, 2, 2, 3, 1, 3, 6, 1, 2, 3, 10, 1, 1, 2, 6, 2, 1, 2, 2, 1, 3, 3, 2, 2, 2, 4, 3, 1, 2, 1, 1, 2, 1, 4, 8, 4, 2, 1, 7, 1, 2, 1, 2, 1, 1, 1, 1, 1, 1, 4, 4, 9, 3, 2, 4, 13, 3, 3, 2, 4, 1, 3, 4, 1, 5, 2, 4, 9]|| iter time: 1.7396860122680664\n",
      "Iteration: 85|| Global Counts: [4, 4, 4, 5, 4, 2, 1, 4, 6, 2, 2, 3, 1, 3, 5, 1, 2, 3, 12, 1, 1, 2, 6, 3, 1, 2, 2, 1, 3, 3, 1, 2, 2, 4, 3, 1, 2, 1, 1, 2, 1, 2, 8, 3, 2, 1, 5, 1, 2, 1, 2, 1, 1, 1, 1, 1, 1, 3, 4, 9, 3, 2, 3, 14, 3, 3, 2, 5, 1, 3, 5, 1, 5, 2, 2, 10, 2]|| iter time: 1.951214075088501\n",
      "Iteration: 86|| Global Counts: [4, 4, 4, 5, 4, 2, 1, 5, 6, 2, 2, 3, 1, 3, 5, 1, 2, 3, 10, 1, 1, 2, 6, 3, 1, 2, 2, 1, 3, 3, 1, 2, 2, 4, 3, 1, 2, 1, 1, 2, 1, 2, 9, 3, 2, 1, 6, 1, 2, 1, 2, 1, 1, 1, 1, 1, 1, 1, 5, 8, 3, 3, 4, 11, 3, 3, 2, 5, 1, 2, 6, 1, 7, 1, 3, 9, 1, 3]|| iter time: 1.969297170639038\n",
      "Iteration: 87|| Global Counts: [4, 4, 4, 6, 4, 2, 1, 4, 5, 2, 2, 3, 1, 3, 5, 1, 2, 3, 8, 1, 1, 2, 6, 3, 1, 2, 2, 1, 3, 3, 1, 2, 2, 5, 3, 1, 2, 1, 1, 2, 1, 2, 10, 4, 2, 1, 7, 1, 2, 1, 2, 1, 1, 1, 1, 1, 1, 1, 6, 8, 3, 5, 3, 8, 4, 4, 2, 4, 1, 4, 4, 1, 6, 1, 4, 11, 1, 1]|| iter time: 1.990096092224121\n",
      "Iteration: 88|| Global Counts: [4, 4, 4, 6, 4, 2, 1, 4, 3, 2, 2, 3, 1, 3, 5, 1, 2, 2, 9, 1, 1, 2, 6, 4, 1, 2, 2, 1, 3, 3, 1, 2, 2, 5, 3, 1, 2, 1, 1, 2, 1, 2, 6, 3, 2, 1, 6, 1, 2, 1, 2, 1, 1, 1, 1, 1, 1, 1, 4, 8, 3, 5, 4, 9, 3, 5, 2, 4, 1, 3, 4, 1, 6, 1, 1, 10, 1, 1]|| iter time: 1.9502348899841309\n",
      "Iteration: 89|| Global Counts: [4, 4, 4, 6, 4, 2, 1, 5, 3, 2, 2, 3, 1, 3, 5, 1, 2, 3, 8, 1, 1, 2, 5, 4, 1, 2, 2, 1, 3, 3, 1, 2, 2, 4, 3, 1, 2, 1, 1, 2, 1, 2, 6, 3, 2, 1, 8, 1, 2, 1, 2, 1, 1, 1, 1, 1, 1, 1, 2, 8, 3, 5, 4, 8, 3, 3, 2, 4, 1, 4, 4, 1, 3, 1, 1, 9, 1, 1, 2]|| iter time: 1.968540906906128\n",
      "Iteration: 90|| Global Counts: [4, 4, 4, 7, 4, 2, 1, 4, 4, 2, 2, 3, 1, 3, 4, 1, 2, 2, 9, 1, 1, 2, 4, 4, 1, 2, 2, 1, 3, 3, 1, 2, 2, 4, 3, 1, 2, 1, 1, 2, 1, 1, 6, 4, 2, 1, 9, 1, 2, 1, 2, 1, 1, 1, 1, 1, 1, 1, 4, 8, 3, 6, 5, 10, 3, 4, 2, 4, 1, 4, 4, 1, 3, 1, 2, 6, 1, 1, 1]|| iter time: 2.047631025314331\n",
      "Iteration: 91|| Global Counts: [4, 4, 4, 5, 4, 2, 1, 5, 5, 2, 2, 3, 1, 3, 5, 1, 2, 2, 7, 1, 1, 2, 7, 4, 1, 2, 2, 1, 3, 3, 2, 2, 2, 4, 3, 1, 2, 1, 1, 2, 1, 1, 7, 4, 2, 1, 9, 1, 2, 1, 2, 1, 1, 1, 1, 1, 1, 1, 4, 8, 3, 5, 5, 12, 3, 4, 3, 4, 1, 3, 4, 1, 3, 1, 2, 10, 1, 1, 1, 2]|| iter time: 2.027517080307007\n",
      "Iteration: 92|| Global Counts: [4, 4, 4, 7, 4, 2, 1, 5, 4, 2, 2, 3, 1, 3, 5, 1, 2, 1, 9, 1, 1, 2, 7, 3, 1, 2, 2, 1, 3, 3, 1, 2, 2, 4, 3, 1, 2, 1, 1, 2, 1, 1, 6, 3, 2, 1, 9, 1, 2, 1, 2, 1, 1, 1, 1, 1, 1, 2, 5, 7, 3, 2, 4, 14, 3, 4, 2, 4, 1, 2, 4, 1, 5, 1, 2, 8, 1, 1, 1, 1]|| iter time: 1.974675178527832\n",
      "Iteration: 93|| Global Counts: [4, 4, 4, 7, 4, 2, 1, 5, 4, 2, 2, 3, 1, 3, 5, 1, 2, 2, 9, 1, 1, 2, 5, 3, 1, 2, 2, 1, 3, 3, 2, 2, 2, 4, 3, 1, 2, 1, 1, 2, 1, 1, 7, 3, 2, 1, 9, 1, 2, 1, 2, 1, 1, 1, 1, 1, 1, 3, 4, 6, 3, 2, 3, 11, 3, 5, 3, 5, 1, 2, 5, 1, 3, 1, 4, 11, 1, 1, 1, 1]|| iter time: 1.9037339687347412\n",
      "Iteration: 94|| Global Counts: [4, 4, 4, 5, 4, 2, 1, 5, 4, 2, 2, 3, 1, 3, 5, 1, 2, 2, 8, 1, 1, 2, 5, 4, 1, 2, 2, 1, 3, 3, 2, 2, 2, 4, 3, 1, 2, 1, 1, 2, 1, 1, 6, 3, 2, 1, 9, 1, 2, 1, 2, 1, 1, 1, 1, 1, 1, 5, 3, 6, 3, 2, 4, 10, 3, 3, 2, 5, 1, 3, 5, 1, 4, 1, 6, 11, 1, 1, 1, 1]|| iter time: 1.9999170303344727\n"
     ]
    },
    {
     "name": "stdout",
     "output_type": "stream",
     "text": [
      "Iteration: 95|| Global Counts: [4, 4, 5, 5, 4, 2, 1, 4, 3, 2, 2, 3, 1, 3, 4, 1, 2, 2, 9, 1, 1, 2, 5, 4, 1, 2, 2, 1, 3, 3, 2, 2, 2, 4, 3, 1, 2, 1, 1, 2, 1, 1, 6, 3, 2, 1, 9, 1, 2, 1, 2, 1, 1, 1, 1, 1, 1, 3, 4, 7, 3, 3, 4, 9, 2, 4, 2, 4, 1, 2, 4, 1, 4, 1, 5, 11, 1, 1, 1, 1]|| iter time: 1.9269239902496338\n",
      "Iteration: 96|| Global Counts: [4, 4, 4, 6, 4, 2, 1, 5, 4, 2, 2, 3, 1, 3, 5, 1, 2, 2, 8, 1, 1, 2, 4, 4, 1, 2, 2, 1, 3, 3, 3, 2, 2, 4, 3, 1, 2, 1, 1, 2, 1, 1, 7, 3, 2, 1, 9, 1, 2, 1, 2, 1, 1, 1, 1, 1, 2, 5, 3, 7, 3, 4, 4, 9, 2, 3, 2, 4, 1, 3, 4, 1, 3, 1, 4, 14, 1, 1, 1, 1]|| iter time: 1.851741075515747\n",
      "Iteration: 97|| Global Counts: [4, 4, 4, 6, 4, 2, 1, 5, 3, 2, 2, 3, 1, 3, 5, 1, 2, 2, 4, 1, 1, 2, 5, 3, 1, 2, 2, 1, 3, 3, 3, 2, 2, 4, 3, 1, 2, 1, 1, 2, 1, 1, 6, 3, 2, 1, 12, 1, 2, 1, 2, 1, 1, 1, 1, 1, 3, 3, 2, 7, 3, 4, 4, 8, 3, 5, 2, 5, 1, 3, 4, 1, 5, 1, 5, 14, 1, 1, 1, 1]|| iter time: 1.8545219898223877\n",
      "Iteration: 98|| Global Counts: [4, 4, 4, 4, 4, 2, 1, 4, 4, 2, 2, 3, 1, 3, 4, 1, 2, 2, 5, 1, 1, 2, 6, 4, 1, 2, 2, 1, 3, 3, 2, 2, 2, 4, 3, 1, 2, 1, 1, 2, 1, 1, 7, 4, 2, 1, 11, 1, 2, 1, 2, 1, 1, 1, 1, 1, 3, 5, 1, 7, 3, 4, 5, 10, 4, 4, 2, 4, 1, 3, 4, 1, 7, 1, 5, 13, 1, 1, 1, 1, 7]|| iter time: 1.9489338397979736\n",
      "Iteration: 99|| Global Counts: [4, 4, 1, 5, 4, 2, 1, 4, 5, 2, 2, 3, 1, 3, 5, 1, 2, 3, 4, 1, 1, 2, 4, 3, 1, 2, 2, 1, 3, 3, 2, 2, 2, 4, 3, 1, 2, 1, 1, 2, 1, 1, 7, 3, 2, 1, 6, 1, 2, 1, 2, 1, 1, 1, 1, 1, 2, 4, 2, 7, 3, 5, 5, 9, 3, 3, 3, 4, 1, 6, 5, 1, 1, 1, 5, 9, 1, 1, 1, 1, 8, 6]|| iter time: 1.9711380004882812\n",
      "Iteration: 100|| Global Counts: [4, 4, 1, 4, 4, 2, 1, 5, 4, 2, 2, 3, 1, 3, 4, 1, 2, 2, 5, 1, 1, 2, 5, 3, 1, 2, 2, 1, 3, 3, 2, 2, 2, 4, 3, 1, 2, 1, 1, 2, 1, 1, 8, 3, 2, 1, 7, 1, 2, 1, 2, 1, 1, 1, 1, 1, 1, 6, 4, 7, 3, 7, 5, 12, 5, 2, 2, 3, 1, 6, 5, 1, 1, 1, 5, 8, 1, 1, 1, 1, 9, 6]|| iter time: 1.8937678337097168\n",
      "105.11291885375977\n"
     ]
    },
    {
     "data": {
      "text/plain": [
       "0.9039166624488165"
      ]
     },
     "execution_count": 13,
     "metadata": {},
     "output_type": "execute_result"
    }
   ],
   "source": [
    "gdim = 15\n",
    "pts,labels = generate_data(gdim,4,50000,5.0,10,0.5)\n",
    "run_and_compare(pts,labels,gdim)"
   ]
  }
 ],
 "metadata": {
  "kernelspec": {
   "display_name": "Julia 1.3.0",
   "language": "julia",
   "name": "julia-1.3"
  },
  "language_info": {
   "file_extension": ".jl",
   "mimetype": "application/julia",
   "name": "julia",
   "version": "1.3.0"
  }
 },
 "nbformat": 4,
 "nbformat_minor": 2
}
